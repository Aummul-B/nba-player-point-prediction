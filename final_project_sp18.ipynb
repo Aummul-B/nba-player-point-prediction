{
 "cells": [
  {
   "cell_type": "code",
   "execution_count": 206,
   "metadata": {},
   "outputs": [],
   "source": [
    "# Run this cell, but please don't change it.\n",
    "## Import the math library.  This is one of many libraries.\n",
    "\n",
    "import math\n",
    "import numpy as np\n",
    "from datascience import *\n",
    "%matplotlib inline\n",
    "import matplotlib.pyplot as plt\n",
    "plt.style.use('fivethirtyeight')\n",
    "import itertoolsreg_res = sm.OLS(y, x).fit_regularized(method = 'coord_descent', alpha = 5, L1_wt = 0)\n",
    "\n",
    "np.set_printoptions(threshold=50, linewidth=100)\n",
    "import matplotlib as mpl\n",
    "mpl.rc('font', size=16)\n",
    "\n",
    "# these two are new to this class\n",
    "from numpy.linalg import eigh\n",
    "import pandas as pd\n",
    "import statsmodels.api as sm\n",
    "from statsmodels.compat.python import range\n",
    "from statsmodels.discrete.discrete_model import Logit\n",
    "\n",
    "\n",
    "# These lines set up the plotting functionality and formatting.\n",
    "import matplotlib\n",
    "matplotlib.use('Agg', warn=False)\n",
    "%matplotlib inline\n",
    "import matplotlib.pyplot as plt\n",
    "plt.style.use('fivethirtyeight')"
   ]
  },
  {
   "cell_type": "markdown",
   "metadata": {},
   "source": [
    "# STAT 89A  Final Project \n",
    "The goal of this project is to test your understanding of how correlations of multiple variables behave in higher dimensions, and how to perform Principal Component Analysis (PCA) on datasets."
   ]
  },
  {
   "cell_type": "markdown",
   "metadata": {},
   "source": [
    "### Please fill in your name in the next cell."
   ]
  },
  {
   "cell_type": "code",
   "execution_count": 35,
   "metadata": {
    "collapsed": true
   },
   "outputs": [],
   "source": [
    "Your_Name = [\"Aummul Baneen Manasawala\"]"
   ]
  },
  {
   "cell_type": "markdown",
   "metadata": {},
   "source": [
    "# Part 1\n",
    "In the first part of this project, we will go through the process of how to clean up a raw dataset that can be used for PCA, look for some possible relationships between variables, and compute least-sqaure models. "
   ]
  },
  {
   "cell_type": "markdown",
   "metadata": {},
   "source": [
    "### Question 1\n",
    "We are going to import the 2015-16 NBA Stats from Basketball Reference (http://www.basketball-reference.com/leagues/NBA_2016_totals.html). Run the next cell to import the data."
   ]
  },
  {
   "cell_type": "code",
   "execution_count": 36,
   "metadata": {},
   "outputs": [
    {
     "data": {
      "text/html": [
       "<table border=\"1\" class=\"dataframe\">\n",
       "    <thead>\n",
       "        <tr>\n",
       "            <th>Rk</th> <th>Player</th> <th>Pos</th> <th>Age</th> <th>Tm</th> <th>G</th> <th>GS</th> <th>MP</th> <th>FG</th> <th>FGA</th> <th>FG%</th> <th>3P</th> <th>3PA</th> <th>3P%</th> <th>2P</th> <th>2PA</th> <th>2P%</th> <th>eFG%</th> <th>FT</th> <th>FTA</th> <th>FT%</th> <th>ORB</th> <th>DRB</th> <th>TRB</th> <th>AST</th> <th>STL</th> <th>BLK</th> <th>TOV</th> <th>PF</th> <th>PTS</th>\n",
       "        </tr>\n",
       "    </thead>\n",
       "    <tbody>\n",
       "        <tr>\n",
       "            <td>1   </td> <td>Quincy Acy       </td> <td>PF  </td> <td>25  </td> <td>SAC </td> <td>57  </td> <td>29  </td> <td>831 </td> <td>114 </td> <td>200 </td> <td>.570</td> <td>18  </td> <td>43  </td> <td>.419</td> <td>96  </td> <td>157 </td> <td>.611</td> <td>.615</td> <td>42  </td> <td>56  </td> <td>.750</td> <td>64  </td> <td>115 </td> <td>179 </td> <td>24  </td> <td>26  </td> <td>21  </td> <td>23  </td> <td>101 </td> <td>288 </td>\n",
       "        </tr>\n",
       "    </tbody>\n",
       "        <tr>\n",
       "            <td>2   </td> <td>Jordan Adams     </td> <td>SG  </td> <td>21  </td> <td>MEM </td> <td>2   </td> <td>0   </td> <td>15  </td> <td>2   </td> <td>6   </td> <td>.333</td> <td>0   </td> <td>1   </td> <td>.000</td> <td>2   </td> <td>5   </td> <td>.400</td> <td>.333</td> <td>3   </td> <td>5   </td> <td>.600</td> <td>0   </td> <td>2   </td> <td>2   </td> <td>3   </td> <td>3   </td> <td>0   </td> <td>2   </td> <td>2   </td> <td>7   </td>\n",
       "        </tr>\n",
       "    </tbody>\n",
       "        <tr>\n",
       "            <td>3   </td> <td>Steven Adams     </td> <td>C   </td> <td>22  </td> <td>OKC </td> <td>78  </td> <td>78  </td> <td>1952</td> <td>248 </td> <td>409 </td> <td>.606</td> <td>0   </td> <td>0   </td> <td>nan </td> <td>248 </td> <td>409 </td> <td>.606</td> <td>.606</td> <td>110 </td> <td>188 </td> <td>.585</td> <td>206 </td> <td>303 </td> <td>509 </td> <td>60  </td> <td>40  </td> <td>86  </td> <td>82  </td> <td>216 </td> <td>606 </td>\n",
       "        </tr>\n",
       "    </tbody>\n",
       "        <tr>\n",
       "            <td>4   </td> <td>Arron Afflalo    </td> <td>SG  </td> <td>30  </td> <td>NYK </td> <td>70  </td> <td>57  </td> <td>2345</td> <td>349 </td> <td>788 </td> <td>.443</td> <td>88  </td> <td>233 </td> <td>.378</td> <td>261 </td> <td>555 </td> <td>.470</td> <td>.499</td> <td>110 </td> <td>131 </td> <td>.840</td> <td>23  </td> <td>242 </td> <td>265 </td> <td>142 </td> <td>24  </td> <td>10  </td> <td>81  </td> <td>141 </td> <td>896 </td>\n",
       "        </tr>\n",
       "    </tbody>\n",
       "        <tr>\n",
       "            <td>5   </td> <td>Alexis Ajinca    </td> <td>C   </td> <td>27  </td> <td>NOP </td> <td>59  </td> <td>17  </td> <td>861 </td> <td>150 </td> <td>315 </td> <td>.476</td> <td>0   </td> <td>1   </td> <td>.000</td> <td>150 </td> <td>314 </td> <td>.478</td> <td>.476</td> <td>52  </td> <td>62  </td> <td>.839</td> <td>75  </td> <td>194 </td> <td>269 </td> <td>31  </td> <td>19  </td> <td>36  </td> <td>54  </td> <td>134 </td> <td>352 </td>\n",
       "        </tr>\n",
       "    </tbody>\n",
       "        <tr>\n",
       "            <td>6   </td> <td>Cole Aldrich     </td> <td>C   </td> <td>27  </td> <td>LAC </td> <td>58  </td> <td>4   </td> <td>760 </td> <td>127 </td> <td>218 </td> <td>.583</td> <td>0   </td> <td>0   </td> <td>nan </td> <td>127 </td> <td>218 </td> <td>.583</td> <td>.583</td> <td>54  </td> <td>78  </td> <td>.692</td> <td>84  </td> <td>190 </td> <td>274 </td> <td>48  </td> <td>45  </td> <td>62  </td> <td>63  </td> <td>135 </td> <td>308 </td>\n",
       "        </tr>\n",
       "    </tbody>\n",
       "        <tr>\n",
       "            <td>7   </td> <td>LaMarcus Aldridge</td> <td>PF  </td> <td>30  </td> <td>SAS </td> <td>73  </td> <td>73  </td> <td>2242</td> <td>534 </td> <td>1040</td> <td>.513</td> <td>0   </td> <td>16  </td> <td>.000</td> <td>534 </td> <td>1024</td> <td>.521</td> <td>.513</td> <td>255 </td> <td>296 </td> <td>.861</td> <td>175 </td> <td>452 </td> <td>627 </td> <td>110 </td> <td>38  </td> <td>80  </td> <td>98  </td> <td>150 </td> <td>1323</td>\n",
       "        </tr>\n",
       "    </tbody>\n",
       "        <tr>\n",
       "            <td>8   </td> <td>Cliff Alexander  </td> <td>PF  </td> <td>20  </td> <td>POR </td> <td>8   </td> <td>0   </td> <td>36  </td> <td>5   </td> <td>10  </td> <td>.500</td> <td>0   </td> <td>0   </td> <td>nan </td> <td>5   </td> <td>10  </td> <td>.500</td> <td>.500</td> <td>0   </td> <td>0   </td> <td>nan </td> <td>2   </td> <td>4   </td> <td>6   </td> <td>0   </td> <td>1   </td> <td>2   </td> <td>1   </td> <td>1   </td> <td>10  </td>\n",
       "        </tr>\n",
       "    </tbody>\n",
       "        <tr>\n",
       "            <td>9   </td> <td>Lavoy Allen      </td> <td>PF  </td> <td>26  </td> <td>IND </td> <td>77  </td> <td>26  </td> <td>1555</td> <td>182 </td> <td>353 </td> <td>.516</td> <td>0   </td> <td>0   </td> <td>nan </td> <td>182 </td> <td>353 </td> <td>.516</td> <td>.516</td> <td>46  </td> <td>73  </td> <td>.630</td> <td>156 </td> <td>257 </td> <td>413 </td> <td>75  </td> <td>26  </td> <td>41  </td> <td>69  </td> <td>142 </td> <td>410 </td>\n",
       "        </tr>\n",
       "    </tbody>\n",
       "        <tr>\n",
       "            <td>10  </td> <td>Tony Allen       </td> <td>SF  </td> <td>34  </td> <td>MEM </td> <td>64  </td> <td>57  </td> <td>1620</td> <td>215 </td> <td>469 </td> <td>.458</td> <td>15  </td> <td>42  </td> <td>.357</td> <td>200 </td> <td>427 </td> <td>.468</td> <td>.474</td> <td>90  </td> <td>138 </td> <td>.652</td> <td>104 </td> <td>192 </td> <td>296 </td> <td>70  </td> <td>110 </td> <td>18  </td> <td>78  </td> <td>175 </td> <td>535 </td>\n",
       "        </tr>\n",
       "    </tbody>\n",
       "</table>\n",
       "<p>... (588 rows omitted)</p"
      ],
      "text/plain": [
       "Rk   | Player            | Pos  | Age  | Tm   | G    | GS   | MP   | FG   | FGA  | FG%  | 3P   | 3PA  | 3P%  | 2P   | 2PA  | 2P%  | eFG% | FT   | FTA  | FT%  | ORB  | DRB  | TRB  | AST  | STL  | BLK  | TOV  | PF   | PTS\n",
       "1    | Quincy Acy        | PF   | 25   | SAC  | 57   | 29   | 831  | 114  | 200  | .570 | 18   | 43   | .419 | 96   | 157  | .611 | .615 | 42   | 56   | .750 | 64   | 115  | 179  | 24   | 26   | 21   | 23   | 101  | 288\n",
       "2    | Jordan Adams      | SG   | 21   | MEM  | 2    | 0    | 15   | 2    | 6    | .333 | 0    | 1    | .000 | 2    | 5    | .400 | .333 | 3    | 5    | .600 | 0    | 2    | 2    | 3    | 3    | 0    | 2    | 2    | 7\n",
       "3    | Steven Adams      | C    | 22   | OKC  | 78   | 78   | 1952 | 248  | 409  | .606 | 0    | 0    | nan  | 248  | 409  | .606 | .606 | 110  | 188  | .585 | 206  | 303  | 509  | 60   | 40   | 86   | 82   | 216  | 606\n",
       "4    | Arron Afflalo     | SG   | 30   | NYK  | 70   | 57   | 2345 | 349  | 788  | .443 | 88   | 233  | .378 | 261  | 555  | .470 | .499 | 110  | 131  | .840 | 23   | 242  | 265  | 142  | 24   | 10   | 81   | 141  | 896\n",
       "5    | Alexis Ajinca     | C    | 27   | NOP  | 59   | 17   | 861  | 150  | 315  | .476 | 0    | 1    | .000 | 150  | 314  | .478 | .476 | 52   | 62   | .839 | 75   | 194  | 269  | 31   | 19   | 36   | 54   | 134  | 352\n",
       "6    | Cole Aldrich      | C    | 27   | LAC  | 58   | 4    | 760  | 127  | 218  | .583 | 0    | 0    | nan  | 127  | 218  | .583 | .583 | 54   | 78   | .692 | 84   | 190  | 274  | 48   | 45   | 62   | 63   | 135  | 308\n",
       "7    | LaMarcus Aldridge | PF   | 30   | SAS  | 73   | 73   | 2242 | 534  | 1040 | .513 | 0    | 16   | .000 | 534  | 1024 | .521 | .513 | 255  | 296  | .861 | 175  | 452  | 627  | 110  | 38   | 80   | 98   | 150  | 1323\n",
       "8    | Cliff Alexander   | PF   | 20   | POR  | 8    | 0    | 36   | 5    | 10   | .500 | 0    | 0    | nan  | 5    | 10   | .500 | .500 | 0    | 0    | nan  | 2    | 4    | 6    | 0    | 1    | 2    | 1    | 1    | 10\n",
       "9    | Lavoy Allen       | PF   | 26   | IND  | 77   | 26   | 1555 | 182  | 353  | .516 | 0    | 0    | nan  | 182  | 353  | .516 | .516 | 46   | 73   | .630 | 156  | 257  | 413  | 75   | 26   | 41   | 69   | 142  | 410\n",
       "10   | Tony Allen        | SF   | 34   | MEM  | 64   | 57   | 1620 | 215  | 469  | .458 | 15   | 42   | .357 | 200  | 427  | .468 | .474 | 90   | 138  | .652 | 104  | 192  | 296  | 70   | 110  | 18   | 78   | 175  | 535\n",
       "... (588 rows omitted)"
      ]
     },
     "execution_count": 36,
     "metadata": {},
     "output_type": "execute_result"
    }
   ],
   "source": [
    "# We imported basketball data from http://www.basketball-reference.com/leagues/NBA_2016_totals.html \n",
    "basketball_data = Table.read_table('basketball.csv')\n",
    "basketball_data"
   ]
  },
  {
   "cell_type": "markdown",
   "metadata": {},
   "source": [
    "#### Question 1.1\n",
    "We realized that all the categories are labeled using abbreviations. To get a better understanding of what each statistic represents, we want to make a glossary of each term in the table. Please google terms that you don't understand. This project will later ask you to predict and test correlations between certain sets of features, it is for you own benefit to know the meanings of all the terms thoroughly. \n",
    "*The statistic adjusts for the fact that a 3-point field goal is worth one more point than a 2-point field goal.\n",
    "\n",
    "An array of the complete names of labels is provided for you called `full_names`. Make a table called `glossary` that has two columns: `'Abbreviation'` and `'Full_Name'` that matches every column label in the table `basketball_data` with its full name."
   ]
  },
  {
   "cell_type": "code",
   "execution_count": 37,
   "metadata": {},
   "outputs": [
    {
     "data": {
      "text/html": [
       "<table border=\"1\" class=\"dataframe\">\n",
       "    <thead>\n",
       "        <tr>\n",
       "            <th>Original Names</th> <th>Full Names</th>\n",
       "        </tr>\n",
       "    </thead>\n",
       "    <tbody>\n",
       "        <tr>\n",
       "            <td>Rk            </td> <td>Rank                                                     </td>\n",
       "        </tr>\n",
       "    </tbody>\n",
       "        <tr>\n",
       "            <td>Player        </td> <td>Player                                                   </td>\n",
       "        </tr>\n",
       "    </tbody>\n",
       "        <tr>\n",
       "            <td>Pos           </td> <td>Position                                                 </td>\n",
       "        </tr>\n",
       "    </tbody>\n",
       "        <tr>\n",
       "            <td>Age           </td> <td>Age of Player at the start of February 1st of that season</td>\n",
       "        </tr>\n",
       "    </tbody>\n",
       "        <tr>\n",
       "            <td>Tm            </td> <td>Team                                                     </td>\n",
       "        </tr>\n",
       "    </tbody>\n",
       "        <tr>\n",
       "            <td>G             </td> <td>Games                                                    </td>\n",
       "        </tr>\n",
       "    </tbody>\n",
       "        <tr>\n",
       "            <td>GS            </td> <td>Games Started                                            </td>\n",
       "        </tr>\n",
       "    </tbody>\n",
       "        <tr>\n",
       "            <td>MP            </td> <td>Minutes Played                                           </td>\n",
       "        </tr>\n",
       "    </tbody>\n",
       "        <tr>\n",
       "            <td>FG            </td> <td>Field Goals                                              </td>\n",
       "        </tr>\n",
       "    </tbody>\n",
       "        <tr>\n",
       "            <td>FGA           </td> <td>Field Goal Attempts                                      </td>\n",
       "        </tr>\n",
       "    </tbody>\n",
       "        <tr>\n",
       "            <td>FG%           </td> <td>Field Goal Percentage                                    </td>\n",
       "        </tr>\n",
       "    </tbody>\n",
       "        <tr>\n",
       "            <td>3P            </td> <td>3-Point Field Goals                                      </td>\n",
       "        </tr>\n",
       "    </tbody>\n",
       "        <tr>\n",
       "            <td>3PA           </td> <td>3-Point Field Goal Attempts                              </td>\n",
       "        </tr>\n",
       "    </tbody>\n",
       "        <tr>\n",
       "            <td>3P%           </td> <td>FG% on 3-Pt FGAs                                         </td>\n",
       "        </tr>\n",
       "    </tbody>\n",
       "        <tr>\n",
       "            <td>2P            </td> <td>2-Point Field Goals                                      </td>\n",
       "        </tr>\n",
       "    </tbody>\n",
       "        <tr>\n",
       "            <td>2PA           </td> <td>2-point Field Goal Attempts                              </td>\n",
       "        </tr>\n",
       "    </tbody>\n",
       "        <tr>\n",
       "            <td>2P%           </td> <td>FG% on 2-Pt FGAs                                         </td>\n",
       "        </tr>\n",
       "    </tbody>\n",
       "        <tr>\n",
       "            <td>eFG%          </td> <td>Effective Field Goal Percentage                          </td>\n",
       "        </tr>\n",
       "    </tbody>\n",
       "        <tr>\n",
       "            <td>FT            </td> <td>Free Throws                                              </td>\n",
       "        </tr>\n",
       "    </tbody>\n",
       "        <tr>\n",
       "            <td>FTA           </td> <td>Free Throw Attempts                                      </td>\n",
       "        </tr>\n",
       "    </tbody>\n",
       "        <tr>\n",
       "            <td>FT%           </td> <td>Free Throw Percentage                                    </td>\n",
       "        </tr>\n",
       "    </tbody>\n",
       "        <tr>\n",
       "            <td>ORB           </td> <td>Offensive Rebounds                                       </td>\n",
       "        </tr>\n",
       "    </tbody>\n",
       "        <tr>\n",
       "            <td>DRB           </td> <td>Defensive Rebounds                                       </td>\n",
       "        </tr>\n",
       "    </tbody>\n",
       "        <tr>\n",
       "            <td>TRB           </td> <td>Total Rebounds                                           </td>\n",
       "        </tr>\n",
       "    </tbody>\n",
       "        <tr>\n",
       "            <td>AST           </td> <td>Assists                                                  </td>\n",
       "        </tr>\n",
       "    </tbody>\n",
       "        <tr>\n",
       "            <td>STL           </td> <td>Steals                                                   </td>\n",
       "        </tr>\n",
       "    </tbody>\n",
       "        <tr>\n",
       "            <td>BLK           </td> <td>Blocks                                                   </td>\n",
       "        </tr>\n",
       "    </tbody>\n",
       "        <tr>\n",
       "            <td>TOV           </td> <td>Turnovers                                                </td>\n",
       "        </tr>\n",
       "    </tbody>\n",
       "        <tr>\n",
       "            <td>PF            </td> <td>Personal Fouls                                           </td>\n",
       "        </tr>\n",
       "    </tbody>\n",
       "        <tr>\n",
       "            <td>PTS           </td> <td>Points                                                   </td>\n",
       "        </tr>\n",
       "    </tbody>\n",
       "</table>"
      ],
      "text/plain": [
       "<IPython.core.display.HTML object>"
      ]
     },
     "metadata": {},
     "output_type": "display_data"
    }
   ],
   "source": [
    "full_names = ['Rank', 'Player', 'Position', 'Age of Player at the start of February 1st of that season', 'Team', 'Games', 'Games Started', 'Minutes Played', 'Field Goals', 'Field Goal Attempts', 'Field Goal Percentage', '3-Point Field Goals', '3-Point Field Goal Attempts', 'FG% on 3-Pt FGAs', '2-Point Field Goals', '2-point Field Goal Attempts', 'FG% on 2-Pt FGAs', 'Effective Field Goal Percentage', 'Free Throws', 'Free Throw Attempts', 'Free Throw Percentage', 'Offensive Rebounds', 'Defensive Rebounds', 'Total Rebounds', 'Assists', 'Steals', 'Blocks', 'Turnovers', 'Personal Fouls', 'Points']\n",
    "# Your Code Here:\n",
    "original_columns_labels = list(basketball_data)\n",
    "# type=[('original_names', '<U57'),('full_names' , '<U57')]\n",
    "# matrix = [[0 for i in range(2)] for i in range(len(original_columns_labels))]\n",
    "# for i in range(len(original_columns_labels)):\n",
    "#         matrix[i][0] = original_columns_labels[i]\n",
    "#         matrix[i][1] = full_names[i]\n",
    "# arr = np.array(matrix, dtype='<U57')\n",
    "# print (arr)\n",
    "glossary = Table().with_columns(\"Original Names\",original_columns_labels, \"Full Names\", full_names)\n",
    "glossary.show() "
   ]
  },
  {
   "cell_type": "markdown",
   "metadata": {},
   "source": [
    "#### Question 1.2 \n",
    "\n",
    "#### Clean the `basketball_data`. Here are several hints:\n",
    "\n",
    "1. Remove all nonsense rows (We see that there are a few rows with ['RK', 'Player', 'Pos', 'Age' .....])\n",
    "\n",
    "2. Some of the values are none, please fix them by yourself (e.g. `'FT'` and `'FTA'` are $0$, then `'FT%'` is `'nan'`.)\n",
    "\n",
    "3. Some players played in different teams during the season, resulting in multiple rows in our table. Please fix it.\n",
    "\n",
    "4. Convert all values in the dataset to float or integer. How about `'Player','Pos','Tm','count'`?\n"
   ]
  },
  {
   "cell_type": "code",
   "execution_count": 38,
   "metadata": {},
   "outputs": [
    {
     "data": {
      "text/html": [
       "<table border=\"1\" class=\"dataframe\">\n",
       "    <thead>\n",
       "        <tr>\n",
       "            <th>Unnamed: 0</th> <th>Rk</th> <th>Player</th> <th>Pos</th> <th>Age</th> <th>Tm</th> <th>G</th> <th>GS</th> <th>MP</th> <th>FG</th> <th>FGA</th> <th>FG.</th> <th>X3P</th> <th>X3PA</th> <th>X3P.</th> <th>X2P</th> <th>X2PA</th> <th>X2P.</th> <th>eFG.</th> <th>FT</th> <th>FTA</th> <th>FT.</th> <th>ORB</th> <th>DRB</th> <th>TRB</th> <th>AST</th> <th>STL</th> <th>BLK</th> <th>TOV</th> <th>PF</th> <th>PTS</th>\n",
       "        </tr>\n",
       "    </thead>\n",
       "    <tbody>\n",
       "        <tr>\n",
       "            <td>1         </td> <td>1   </td> <td>Quincy Acy       </td> <td>PF  </td> <td>25  </td> <td>SAC </td> <td>57  </td> <td>29  </td> <td>831 </td> <td>114 </td> <td>200 </td> <td>0.57 </td> <td>18  </td> <td>43  </td> <td>0.419</td> <td>96  </td> <td>157 </td> <td>0.611</td> <td>0.615</td> <td>42  </td> <td>56  </td> <td>0.75 </td> <td>64  </td> <td>115 </td> <td>179 </td> <td>24  </td> <td>26  </td> <td>21  </td> <td>23  </td> <td>101 </td> <td>288 </td>\n",
       "        </tr>\n",
       "    </tbody>\n",
       "        <tr>\n",
       "            <td>2         </td> <td>2   </td> <td>Jordan Adams     </td> <td>SG  </td> <td>21  </td> <td>MEM </td> <td>2   </td> <td>0   </td> <td>15  </td> <td>2   </td> <td>6   </td> <td>0.333</td> <td>0   </td> <td>1   </td> <td>0    </td> <td>2   </td> <td>5   </td> <td>0.4  </td> <td>0.333</td> <td>3   </td> <td>5   </td> <td>0.6  </td> <td>0   </td> <td>2   </td> <td>2   </td> <td>3   </td> <td>3   </td> <td>0   </td> <td>2   </td> <td>2   </td> <td>7   </td>\n",
       "        </tr>\n",
       "    </tbody>\n",
       "        <tr>\n",
       "            <td>3         </td> <td>3   </td> <td>Steven Adams     </td> <td>C   </td> <td>22  </td> <td>OKC </td> <td>78  </td> <td>78  </td> <td>1952</td> <td>248 </td> <td>409 </td> <td>0.606</td> <td>0   </td> <td>0   </td> <td>0    </td> <td>248 </td> <td>409 </td> <td>0.606</td> <td>0.606</td> <td>110 </td> <td>188 </td> <td>0.585</td> <td>206 </td> <td>303 </td> <td>509 </td> <td>60  </td> <td>40  </td> <td>86  </td> <td>82  </td> <td>216 </td> <td>606 </td>\n",
       "        </tr>\n",
       "    </tbody>\n",
       "        <tr>\n",
       "            <td>4         </td> <td>4   </td> <td>Arron Afflalo    </td> <td>SG  </td> <td>30  </td> <td>NYK </td> <td>70  </td> <td>57  </td> <td>2345</td> <td>349 </td> <td>788 </td> <td>0.443</td> <td>88  </td> <td>233 </td> <td>0.378</td> <td>261 </td> <td>555 </td> <td>0.47 </td> <td>0.499</td> <td>110 </td> <td>131 </td> <td>0.84 </td> <td>23  </td> <td>242 </td> <td>265 </td> <td>142 </td> <td>24  </td> <td>10  </td> <td>81  </td> <td>141 </td> <td>896 </td>\n",
       "        </tr>\n",
       "    </tbody>\n",
       "        <tr>\n",
       "            <td>5         </td> <td>5   </td> <td>Alexis Ajinca    </td> <td>C   </td> <td>27  </td> <td>NOP </td> <td>59  </td> <td>17  </td> <td>861 </td> <td>150 </td> <td>315 </td> <td>0.476</td> <td>0   </td> <td>1   </td> <td>0    </td> <td>150 </td> <td>314 </td> <td>0.478</td> <td>0.476</td> <td>52  </td> <td>62  </td> <td>0.839</td> <td>75  </td> <td>194 </td> <td>269 </td> <td>31  </td> <td>19  </td> <td>36  </td> <td>54  </td> <td>134 </td> <td>352 </td>\n",
       "        </tr>\n",
       "    </tbody>\n",
       "        <tr>\n",
       "            <td>6         </td> <td>6   </td> <td>Cole Aldrich     </td> <td>C   </td> <td>27  </td> <td>LAC </td> <td>58  </td> <td>4   </td> <td>760 </td> <td>127 </td> <td>218 </td> <td>0.583</td> <td>0   </td> <td>0   </td> <td>0    </td> <td>127 </td> <td>218 </td> <td>0.583</td> <td>0.583</td> <td>54  </td> <td>78  </td> <td>0.692</td> <td>84  </td> <td>190 </td> <td>274 </td> <td>48  </td> <td>45  </td> <td>62  </td> <td>63  </td> <td>135 </td> <td>308 </td>\n",
       "        </tr>\n",
       "    </tbody>\n",
       "        <tr>\n",
       "            <td>7         </td> <td>7   </td> <td>LaMarcus Aldridge</td> <td>PF  </td> <td>30  </td> <td>SAS </td> <td>73  </td> <td>73  </td> <td>2242</td> <td>534 </td> <td>1040</td> <td>0.513</td> <td>0   </td> <td>16  </td> <td>0    </td> <td>534 </td> <td>1024</td> <td>0.521</td> <td>0.513</td> <td>255 </td> <td>296 </td> <td>0.861</td> <td>175 </td> <td>452 </td> <td>627 </td> <td>110 </td> <td>38  </td> <td>80  </td> <td>98  </td> <td>150 </td> <td>1323</td>\n",
       "        </tr>\n",
       "    </tbody>\n",
       "        <tr>\n",
       "            <td>8         </td> <td>8   </td> <td>Cliff Alexander  </td> <td>PF  </td> <td>20  </td> <td>POR </td> <td>8   </td> <td>0   </td> <td>36  </td> <td>5   </td> <td>10  </td> <td>0.5  </td> <td>0   </td> <td>0   </td> <td>0    </td> <td>5   </td> <td>10  </td> <td>0.5  </td> <td>0.5  </td> <td>0   </td> <td>0   </td> <td>0    </td> <td>2   </td> <td>4   </td> <td>6   </td> <td>0   </td> <td>1   </td> <td>2   </td> <td>1   </td> <td>1   </td> <td>10  </td>\n",
       "        </tr>\n",
       "    </tbody>\n",
       "        <tr>\n",
       "            <td>9         </td> <td>9   </td> <td>Lavoy Allen      </td> <td>PF  </td> <td>26  </td> <td>IND </td> <td>77  </td> <td>26  </td> <td>1555</td> <td>182 </td> <td>353 </td> <td>0.516</td> <td>0   </td> <td>0   </td> <td>0    </td> <td>182 </td> <td>353 </td> <td>0.516</td> <td>0.516</td> <td>46  </td> <td>73  </td> <td>0.63 </td> <td>156 </td> <td>257 </td> <td>413 </td> <td>75  </td> <td>26  </td> <td>41  </td> <td>69  </td> <td>142 </td> <td>410 </td>\n",
       "        </tr>\n",
       "    </tbody>\n",
       "        <tr>\n",
       "            <td>10        </td> <td>10  </td> <td>Tony Allen       </td> <td>SF  </td> <td>34  </td> <td>MEM </td> <td>64  </td> <td>57  </td> <td>1620</td> <td>215 </td> <td>469 </td> <td>0.458</td> <td>15  </td> <td>42  </td> <td>0.357</td> <td>200 </td> <td>427 </td> <td>0.468</td> <td>0.474</td> <td>90  </td> <td>138 </td> <td>0.652</td> <td>104 </td> <td>192 </td> <td>296 </td> <td>70  </td> <td>110 </td> <td>18  </td> <td>78  </td> <td>175 </td> <td>535 </td>\n",
       "        </tr>\n",
       "    </tbody>\n",
       "</table>\n",
       "<p>... (463 rows omitted)</p"
      ],
      "text/plain": [
       "Unnamed: 0 | Rk   | Player            | Pos  | Age  | Tm   | G    | GS   | MP   | FG   | FGA  | FG.   | X3P  | X3PA | X3P.  | X2P  | X2PA | X2P.  | eFG.  | FT   | FTA  | FT.   | ORB  | DRB  | TRB  | AST  | STL  | BLK  | TOV  | PF   | PTS\n",
       "1          | 1    | Quincy Acy        | PF   | 25   | SAC  | 57   | 29   | 831  | 114  | 200  | 0.57  | 18   | 43   | 0.419 | 96   | 157  | 0.611 | 0.615 | 42   | 56   | 0.75  | 64   | 115  | 179  | 24   | 26   | 21   | 23   | 101  | 288\n",
       "2          | 2    | Jordan Adams      | SG   | 21   | MEM  | 2    | 0    | 15   | 2    | 6    | 0.333 | 0    | 1    | 0     | 2    | 5    | 0.4   | 0.333 | 3    | 5    | 0.6   | 0    | 2    | 2    | 3    | 3    | 0    | 2    | 2    | 7\n",
       "3          | 3    | Steven Adams      | C    | 22   | OKC  | 78   | 78   | 1952 | 248  | 409  | 0.606 | 0    | 0    | 0     | 248  | 409  | 0.606 | 0.606 | 110  | 188  | 0.585 | 206  | 303  | 509  | 60   | 40   | 86   | 82   | 216  | 606\n",
       "4          | 4    | Arron Afflalo     | SG   | 30   | NYK  | 70   | 57   | 2345 | 349  | 788  | 0.443 | 88   | 233  | 0.378 | 261  | 555  | 0.47  | 0.499 | 110  | 131  | 0.84  | 23   | 242  | 265  | 142  | 24   | 10   | 81   | 141  | 896\n",
       "5          | 5    | Alexis Ajinca     | C    | 27   | NOP  | 59   | 17   | 861  | 150  | 315  | 0.476 | 0    | 1    | 0     | 150  | 314  | 0.478 | 0.476 | 52   | 62   | 0.839 | 75   | 194  | 269  | 31   | 19   | 36   | 54   | 134  | 352\n",
       "6          | 6    | Cole Aldrich      | C    | 27   | LAC  | 58   | 4    | 760  | 127  | 218  | 0.583 | 0    | 0    | 0     | 127  | 218  | 0.583 | 0.583 | 54   | 78   | 0.692 | 84   | 190  | 274  | 48   | 45   | 62   | 63   | 135  | 308\n",
       "7          | 7    | LaMarcus Aldridge | PF   | 30   | SAS  | 73   | 73   | 2242 | 534  | 1040 | 0.513 | 0    | 16   | 0     | 534  | 1024 | 0.521 | 0.513 | 255  | 296  | 0.861 | 175  | 452  | 627  | 110  | 38   | 80   | 98   | 150  | 1323\n",
       "8          | 8    | Cliff Alexander   | PF   | 20   | POR  | 8    | 0    | 36   | 5    | 10   | 0.5   | 0    | 0    | 0     | 5    | 10   | 0.5   | 0.5   | 0    | 0    | 0     | 2    | 4    | 6    | 0    | 1    | 2    | 1    | 1    | 10\n",
       "9          | 9    | Lavoy Allen       | PF   | 26   | IND  | 77   | 26   | 1555 | 182  | 353  | 0.516 | 0    | 0    | 0     | 182  | 353  | 0.516 | 0.516 | 46   | 73   | 0.63  | 156  | 257  | 413  | 75   | 26   | 41   | 69   | 142  | 410\n",
       "10         | 10   | Tony Allen        | SF   | 34   | MEM  | 64   | 57   | 1620 | 215  | 469  | 0.458 | 15   | 42   | 0.357 | 200  | 427  | 0.468 | 0.474 | 90   | 138  | 0.652 | 104  | 192  | 296  | 70   | 110  | 18   | 78   | 175  | 535\n",
       "... (463 rows omitted)"
      ]
     },
     "execution_count": 38,
     "metadata": {},
     "output_type": "execute_result"
    }
   ],
   "source": [
    "# Your code here:\n",
    "#data cleaning performed in R, separate code file attached \n",
    "final_table = Table.read_table('final_basketball.csv')\n",
    "final_table"
   ]
  },
  {
   "cell_type": "markdown",
   "metadata": {},
   "source": [
    "### Question 2\n",
    "We will now try to see if there is any correlation between pairs of variables. Please review the glossary of basketball terms."
   ]
  },
  {
   "cell_type": "markdown",
   "metadata": {},
   "source": [
    "#### Question 2.1\n",
    "Complete a function called `corr` that takes in a table, two columns(`column_A, column_B`), and returns the correlation of the two variables and a scatterplot. "
   ]
  },
  {
   "cell_type": "code",
   "execution_count": 39,
   "metadata": {
    "collapsed": true
   },
   "outputs": [],
   "source": [
    "# function that allows us to compute the correlation\n",
    "def standard_units(x):\n",
    "    \"\"\"Convert any array of numbers to standard units\"\"\"\n",
    "    return (x - np.average(x))/np.std(x)\n",
    "\n",
    "\n",
    "\n",
    "def corr(table, column_A, column_B):\n",
    "    x = table[column_A]\n",
    "    y = table[column_B]\n",
    "    table.scatter(column_A, column_B, s=10, fit_line=True)\n",
    "    \n",
    "# Your code here, fill in the return statement:    \n",
    "    return  np.average((standard_units(x))*standard_units(y))"
   ]
  },
  {
   "cell_type": "markdown",
   "metadata": {},
   "source": [
    "#### Question 2.2\n",
    "Compute the correlation between `Age` and `Points`. Use a couple sentences to describe what you see graphically and explain why you think the correlation is the way it is in terms of basketball knowledge? "
   ]
  },
  {
   "cell_type": "code",
   "execution_count": 40,
   "metadata": {},
   "outputs": [
    {
     "data": {
      "text/plain": [
       "-0.0055682879353161187"
      ]
     },
     "execution_count": 40,
     "metadata": {},
     "output_type": "execute_result"
    },
    {
     "data": {
      "image/png": "[encoded data removed]",
      "text/plain": [
       "<matplotlib.figure.Figure at 0x1c19f790f0>"
      ]
     },
     "metadata": {},
     "output_type": "display_data"
    }
   ],
   "source": [
    "corr(final_table, 'Age', 'PTS')"
   ]
  },
  {
   "cell_type": "markdown",
   "metadata": {},
   "source": [
    "#### Your answer here:"
   ]
  },
  {
   "cell_type": "markdown",
   "metadata": {},
   "source": [
    "With the increase in age from 19 to 25, the experience increase which justifies the increase in the points scored highest in the age group 25 to 30. After 30, the energy levels and physical fitness starts decreasing resulting in the decline of the highest number of points from age 27 onwards. Overall, the correlation becomes close to zero and very slightly negative to be precise."
   ]
  },
  {
   "cell_type": "markdown",
   "metadata": {},
   "source": [
    "#### Question 2.3\n",
    "Compute the correlation between `Defensive Rebounds` and `Total Rebounds`. Use a couple sentences to describe what you see graphically and explain why you think the correlation is the way it is in terms of basketball knowledge? "
   ]
  },
  {
   "cell_type": "code",
   "execution_count": 41,
   "metadata": {},
   "outputs": [
    {
     "data": {
      "text/plain": [
       "0.98592183045066151"
      ]
     },
     "execution_count": 41,
     "metadata": {},
     "output_type": "execute_result"
    },
    {
     "data": {
      "image/png": "[encoded data removed]",
      "text/plain": [
       "<matplotlib.figure.Figure at 0x1c197d05f8>"
      ]
     },
     "metadata": {},
     "output_type": "display_data"
    }
   ],
   "source": [
    "corr(final_table, \"DRB\", \"TRB\")"
   ]
  },
  {
   "cell_type": "markdown",
   "metadata": {},
   "source": [
    "#### Your answer here:"
   ]
  },
  {
   "cell_type": "markdown",
   "metadata": {},
   "source": [
    "There is a highly positive correlation between the defensive rebound and the total rebound which is intuitive because if the defensive rebound which I assume is the popular type of rebound would increase, the total rebound would increase with it."
   ]
  },
  {
   "cell_type": "markdown",
   "metadata": {},
   "source": [
    "### Question 3\n",
    "After seeing a couple scatter plots and their r_values, we would like to predict a y-value using a specific x-value.\n",
    "\n",
    "First, to avoid computing the graph everytime when we run `corr`, write a function called `correlation` that does everything that `corr` does without outputing the scatterplot. \n",
    "\n",
    "Then, Write a function that computes the slope called `slope`, and one that computes the intercept called `intercept` of the least squared line. They both take in a table, a x-value, and a y-value. (Hint: use the function `correlation` when you need the r-value to compute component(s) for slope or intercept)."
   ]
  },
  {
   "cell_type": "code",
   "execution_count": 42,
   "metadata": {
    "collapsed": true
   },
   "outputs": [],
   "source": [
    "### Your code here:\n",
    "def correlation(table, column_A, column_B):\n",
    "    x = table[column_A]\n",
    "    y = table[column_B]\n",
    "    return np.average((standard_units(x))*standard_units(y))\n",
    "\n",
    "def slope(table, x, y):\n",
    "    r = correlation(table, x, y)\n",
    "    return r*np.std(table.column(y))/np.std(table.column(x))\n",
    "\n",
    "def intercept(table, x, y):\n",
    "    return np.average(table.column(y)) - slope(table, x, y)*np.average(table.column(x))"
   ]
  },
  {
   "cell_type": "markdown",
   "metadata": {},
   "source": [
    "#### Question 3.1\n",
    "Compute the correlation between `Games` and `Minutes Played` using `corr`. Use a couple sentences to describe what you see graphically and explain why you think the correlation is the way it is in terms of basketball knowledge? \n",
    "\n",
    "Then compute the slope and the intercept of the line using the functions you defined above. "
   ]
  },
  {
   "cell_type": "code",
   "execution_count": 43,
   "metadata": {},
   "outputs": [
    {
     "data": {
      "text/plain": [
       "0.86316969573995761"
      ]
     },
     "execution_count": 43,
     "metadata": {},
     "output_type": "execute_result"
    },
    {
     "data": {
      "image/png": "[encoded data removed]",
      "text/plain": [
       "<matplotlib.figure.Figure at 0x1c1996d898>"
      ]
     },
     "metadata": {},
     "output_type": "display_data"
    }
   ],
   "source": [
    "corr(final_table, \"G\", \"MP\" )"
   ]
  },
  {
   "cell_type": "markdown",
   "metadata": {},
   "source": [
    "#### Your answer here:"
   ]
  },
  {
   "cell_type": "markdown",
   "metadata": {},
   "source": [
    "The number of games and the minutes played is highly correlated positively because the more number of games one plays, the more is the minutes that he would be playing."
   ]
  },
  {
   "cell_type": "code",
   "execution_count": 44,
   "metadata": {},
   "outputs": [
    {
     "data": {
      "text/plain": [
       "30.393336590331312"
      ]
     },
     "execution_count": 44,
     "metadata": {},
     "output_type": "execute_result"
    }
   ],
   "source": [
    "slope(final_table, \"G\", \"MP\")"
   ]
  },
  {
   "cell_type": "code",
   "execution_count": 45,
   "metadata": {},
   "outputs": [
    {
     "data": {
      "text/plain": [
       "-409.81534122581343"
      ]
     },
     "execution_count": 45,
     "metadata": {},
     "output_type": "execute_result"
    }
   ],
   "source": [
    "intercept(final_table, \"G\", \"MP\")"
   ]
  },
  {
   "cell_type": "markdown",
   "metadata": {},
   "source": [
    "#### Question 3.2\n",
    "Write a function called `pred_MP` that takes in a value of Games and returns the predicted value of Minutes Played using the slope and intercept you found in 3.1. \n",
    "\n",
    "Then call the `pred_MP` and compute the residual when Games = 22."
   ]
  },
  {
   "cell_type": "code",
   "execution_count": 46,
   "metadata": {},
   "outputs": [
    {
     "data": {
      "text/plain": [
       "-64.838063761475496"
      ]
     },
     "execution_count": 46,
     "metadata": {},
     "output_type": "execute_result"
    }
   ],
   "source": [
    "# Your code here:\n",
    "def pred_MP(games):\n",
    "    return (intercept(final_table, \"G\", \"MP\") + (games*slope(final_table, \"G\", \"MP\")))\n",
    "mp_for_22_games = final_table.where(\"G\", 22)\n",
    "residual = (np.average(mp_for_22_games.column(\"MP\")) - pred_MP(22)) \n",
    "residual"
   ]
  },
  {
   "cell_type": "markdown",
   "metadata": {},
   "source": [
    "#### Question 3.3\n",
    "Compute the sum of residual squares of the least_squared line you computed in 3.1. Is our linear model a good fit? Why or why not? Describe an ideal model that you would use for this particular pair of variables.\n",
    "\n",
    "Coming up with a better prediction model that has the sum of residual squared less than 30000."
   ]
  },
  {
   "cell_type": "markdown",
   "metadata": {
    "collapsed": true
   },
   "source": [
    "#### Your answer here:"
   ]
  },
  {
   "cell_type": "code",
   "execution_count": 47,
   "metadata": {},
   "outputs": [
    {
     "data": {
      "text/plain": [
       "83820059.121075898"
      ]
     },
     "execution_count": 47,
     "metadata": {},
     "output_type": "execute_result"
    }
   ],
   "source": [
    "#computing the sum of residual squares\n",
    "def fitted_values(t, x, y):\n",
    "    a = slope(t, x, y)\n",
    "    b = intercept(t, x, y)\n",
    "    return a*t.column(x) + b\n",
    "\n",
    "def residuals(t, x, y) :\n",
    "    return t.column(y)-fitted_values(t, x, y)\n",
    "\n",
    "residuals(final_table, \"G\", \"MP\")\n",
    "\n",
    "def rss(residuals):\n",
    "    return np.linalg.norm(residuals)**2\n",
    "\n",
    "rss1 = rss(residuals(final_table, \"G\", \"MP\"))\n",
    "rss1"
   ]
  },
  {
   "cell_type": "code",
   "execution_count": 48,
   "metadata": {},
   "outputs": [
    {
     "name": "stdout",
     "output_type": "stream",
     "text": [
      "71616529.6903\n",
      "71588828.9857\n"
     ]
    }
   ],
   "source": [
    "# Compute a better model here:\n",
    "\n",
    "# lets try with degree 2\n",
    "\n",
    "coeffs_quad_fit = np.polyfit(final_table.column(\"G\"), final_table.column(\"MP\"), deg= 2)\n",
    "\n",
    "def fitted_values_2(t, x, y):\n",
    "    return ((coeffs_quad_fit[2]) + (coeffs_quad_fit[1]*t.column(x)) + (coeffs_quad_fit[0]*((t.column(x))**2)))\n",
    "\n",
    "def residuals_2(t, x, y) :\n",
    "    return t.column(y)-fitted_values_2(t, x, y)\n",
    "\n",
    "rss2 = rss(residuals_2(final_table, \"G\", \"MP\"))\n",
    "print(rss2)\n",
    "\n",
    "#degree 3\n",
    "\n",
    "coeffs_cubic_fit = np.polyfit(final_table.column(\"G\"), final_table.column(\"MP\"), deg= 3)\n",
    "\n",
    "def fitted_values_3(t, x, y):\n",
    "    return ((coeffs_cubic_fit[3]) + (coeffs_cubic_fit[2]*(t.column(x))) + (coeffs_cubic_fit[1]*((t.column(x))**2)) +\n",
    "           (coeffs_cubic_fit[0]*(t.column(x))**3))\n",
    "\n",
    "def residuals_3(t, x, y) :\n",
    "    return t.column(y)-fitted_values_3(t, x, y)\n",
    "\n",
    "rss3 = rss(residuals_3(final_table, \"G\", \"MP\"))\n",
    "print(rss3)"
   ]
  },
  {
   "cell_type": "markdown",
   "metadata": {},
   "source": [
    "Since the rss is very slowly decreasing, lets try a higher power, say 7"
   ]
  },
  {
   "cell_type": "code",
   "execution_count": 49,
   "metadata": {},
   "outputs": [
    {
     "name": "stdout",
     "output_type": "stream",
     "text": [
      "71132205.4828\n",
      "387.795322867\n"
     ]
    }
   ],
   "source": [
    "coeffs_ten_fit = np.polyfit(final_table.column(\"G\"), final_table.column(\"MP\"), deg= 7)\n",
    "\n",
    "def fitted_values_7(t, x, y):\n",
    "    return ((coeffs_ten_fit[7]) + (coeffs_ten_fit[6]*(t.column(x))) + \n",
    "            (coeffs_ten_fit[5]*((t.column(x))**2)) +\n",
    "           (coeffs_ten_fit[4]*(t.column(x))**3) + (coeffs_ten_fit[3]*(t.column(x))**4) +\n",
    "           (coeffs_ten_fit[2]*(t.column(x))**5) + (coeffs_ten_fit[1]*(t.column(x))**6) +\n",
    "           (coeffs_ten_fit[0]*(t.column(x))**7))\n",
    "\n",
    "def residuals_7(t, x, y) :\n",
    "    return t.column(y)-fitted_values_7(t, x, y)\n",
    "\n",
    "rss7 = rss(residuals_7(final_table, \"G\", \"MP\"))\n",
    "print(rss7)\n",
    "\n",
    "rmse = (rss7/final_table.num_rows)**0.5\n",
    "\n",
    "print(rmse)"
   ]
  },
  {
   "cell_type": "markdown",
   "metadata": {},
   "source": [
    "# Now LS - Multivariate Least Squares\n",
    "\n",
    "We saw in part 1 that certain statistics could not be broadcast as a linear regression of another. To mitigate this we could try a multiple linear regression using least squares.\n",
    "We will predict one dependent variable as a function of a few independent variables. This part will use the pandas dataframe object in order to simplify the calculations.\n",
    "\n",
    "**Question 9.0.** Convert `basketball_numbers` into a data-frame, using one of the `Table` methods. You can find this method by going to the `Tables` documentation under the 'Exporting/Displaying' category."
   ]
  },
  {
   "cell_type": "code",
   "execution_count": 6,
   "metadata": {
    "collapsed": true
   },
   "outputs": [],
   "source": [
    "basketball_df = Table.to_df(basketball_numbers)"
   ]
  },
  {
   "cell_type": "markdown",
   "metadata": {},
   "source": [
    "When we perform a multiple regression it's not enough just to have a slope and intercept, we would like to know other characteristics about the data. We have one dependent variable and it is shown in the top left of the table that is displayed. The model and method are as expected, and the number of observations is equal to the number of rows. The next cell gives the framework for what needs to be done to run a multiple regression. The only things that change are the name of the dataframe table (which in this case is `basketball_df`) and the names of the independent variables and dependent variable.\n",
    "\n",
    "**Question 9.1.** Run the next cell."
   ]
  },
  {
   "cell_type": "code",
   "execution_count": 7,
   "metadata": {},
   "outputs": [
    {
     "data": {
      "text/html": [
       "<table class=\"simpletable\">\n",
       "<caption>OLS Regression Results</caption>\n",
       "<tr>\n",
       "  <th>Dep. Variable:</th>           <td>PTS</td>       <th>  R-squared:         </th> <td>   0.817</td> \n",
       "</tr>\n",
       "<tr>\n",
       "  <th>Model:</th>                   <td>OLS</td>       <th>  Adj. R-squared:    </th> <td>   0.817</td> \n",
       "</tr>\n",
       "<tr>\n",
       "  <th>Method:</th>             <td>Least Squares</td>  <th>  F-statistic:       </th> <td>   1673.</td> \n",
       "</tr>\n",
       "<tr>\n",
       "  <th>Date:</th>             <td>Fri, 11 May 2018</td> <th>  Prob (F-statistic):</th> <td>4.06e-140</td>\n",
       "</tr>\n",
       "<tr>\n",
       "  <th>Time:</th>                 <td>07:41:18</td>     <th>  Log-Likelihood:    </th> <td> -2522.8</td> \n",
       "</tr>\n",
       "<tr>\n",
       "  <th>No. Observations:</th>      <td>   376</td>      <th>  AIC:               </th> <td>   5050.</td> \n",
       "</tr>\n",
       "<tr>\n",
       "  <th>Df Residuals:</th>          <td>   374</td>      <th>  BIC:               </th> <td>   5058.</td> \n",
       "</tr>\n",
       "<tr>\n",
       "  <th>Df Model:</th>              <td>     1</td>      <th>                     </th>     <td> </td>    \n",
       "</tr>\n",
       "<tr>\n",
       "  <th>Covariance Type:</th>      <td>nonrobust</td>    <th>                     </th>     <td> </td>    \n",
       "</tr>\n",
       "</table>\n",
       "<table class=\"simpletable\">\n",
       "<tr>\n",
       "    <td></td>       <th>coef</th>     <th>std err</th>      <th>t</th>      <th>P>|t|</th>  <th>[0.025</th>    <th>0.975]</th>  \n",
       "</tr>\n",
       "<tr>\n",
       "  <th>const</th> <td> -110.8340</td> <td>   19.929</td> <td>   -5.561</td> <td> 0.000</td> <td> -150.022</td> <td>  -71.647</td>\n",
       "</tr>\n",
       "<tr>\n",
       "  <th>MP</th>    <td>    0.5136</td> <td>    0.013</td> <td>   40.902</td> <td> 0.000</td> <td>    0.489</td> <td>    0.538</td>\n",
       "</tr>\n",
       "</table>\n",
       "<table class=\"simpletable\">\n",
       "<tr>\n",
       "  <th>Omnibus:</th>       <td>90.919</td> <th>  Durbin-Watson:     </th> <td>   1.903</td>\n",
       "</tr>\n",
       "<tr>\n",
       "  <th>Prob(Omnibus):</th> <td> 0.000</td> <th>  Jarque-Bera (JB):  </th> <td> 309.422</td>\n",
       "</tr>\n",
       "<tr>\n",
       "  <th>Skew:</th>          <td> 1.054</td> <th>  Prob(JB):          </th> <td>6.45e-68</td>\n",
       "</tr>\n",
       "<tr>\n",
       "  <th>Kurtosis:</th>      <td> 6.913</td> <th>  Cond. No.          </th> <td>3.08e+03</td>\n",
       "</tr>\n",
       "</table>"
      ],
      "text/plain": [
       "<class 'statsmodels.iolib.summary.Summary'>\n",
       "\"\"\"\n",
       "                            OLS Regression Results                            \n",
       "==============================================================================\n",
       "Dep. Variable:                    PTS   R-squared:                       0.817\n",
       "Model:                            OLS   Adj. R-squared:                  0.817\n",
       "Method:                 Least Squares   F-statistic:                     1673.\n",
       "Date:                Fri, 11 May 2018   Prob (F-statistic):          4.06e-140\n",
       "Time:                        07:41:18   Log-Likelihood:                -2522.8\n",
       "No. Observations:                 376   AIC:                             5050.\n",
       "Df Residuals:                     374   BIC:                             5058.\n",
       "Df Model:                           1                                         \n",
       "Covariance Type:            nonrobust                                         \n",
       "==============================================================================\n",
       "                 coef    std err          t      P>|t|      [0.025      0.975]\n",
       "------------------------------------------------------------------------------\n",
       "const       -110.8340     19.929     -5.561      0.000    -150.022     -71.647\n",
       "MP             0.5136      0.013     40.902      0.000       0.489       0.538\n",
       "==============================================================================\n",
       "Omnibus:                       90.919   Durbin-Watson:                   1.903\n",
       "Prob(Omnibus):                  0.000   Jarque-Bera (JB):              309.422\n",
       "Skew:                           1.054   Prob(JB):                     6.45e-68\n",
       "Kurtosis:                       6.913   Cond. No.                     3.08e+03\n",
       "==============================================================================\n",
       "\n",
       "Warnings:\n",
       "[1] Standard Errors assume that the covariance matrix of the errors is correctly specified.\n",
       "[2] The condition number is large, 3.08e+03. This might indicate that there are\n",
       "strong multicollinearity or other numerical problems.\n",
       "\"\"\""
      ]
     },
     "execution_count": 7,
     "metadata": {},
     "output_type": "execute_result"
    }
   ],
   "source": [
    "x = basketball_df[['MP']]\n",
    "y = basketball_df['PTS']\n",
    "x = sm.add_constant(x)\n",
    "est = sm.OLS(y, x).fit()\n",
    "est.summary()"
   ]
  },
  {
   "cell_type": "markdown",
   "metadata": {},
   "source": [
    "**Question 9.2.** Perform a multiple regression with two independent variables on `\"AST\"`."
   ]
  },
  {
   "cell_type": "code",
   "execution_count": 11,
   "metadata": {},
   "outputs": [
    {
     "data": {
      "text/html": [
       "<table class=\"simpletable\">\n",
       "<caption>OLS Regression Results</caption>\n",
       "<tr>\n",
       "  <th>Dep. Variable:</th>           <td>AST</td>       <th>  R-squared:         </th> <td>   0.525</td>\n",
       "</tr>\n",
       "<tr>\n",
       "  <th>Model:</th>                   <td>OLS</td>       <th>  Adj. R-squared:    </th> <td>   0.523</td>\n",
       "</tr>\n",
       "<tr>\n",
       "  <th>Method:</th>             <td>Least Squares</td>  <th>  F-statistic:       </th> <td>   206.4</td>\n",
       "</tr>\n",
       "<tr>\n",
       "  <th>Date:</th>             <td>Fri, 11 May 2018</td> <th>  Prob (F-statistic):</th> <td>4.46e-61</td>\n",
       "</tr>\n",
       "<tr>\n",
       "  <th>Time:</th>                 <td>07:54:35</td>     <th>  Log-Likelihood:    </th> <td> -2241.3</td>\n",
       "</tr>\n",
       "<tr>\n",
       "  <th>No. Observations:</th>      <td>   376</td>      <th>  AIC:               </th> <td>   4489.</td>\n",
       "</tr>\n",
       "<tr>\n",
       "  <th>Df Residuals:</th>          <td>   373</td>      <th>  BIC:               </th> <td>   4500.</td>\n",
       "</tr>\n",
       "<tr>\n",
       "  <th>Df Model:</th>              <td>     2</td>      <th>                     </th>     <td> </td>   \n",
       "</tr>\n",
       "<tr>\n",
       "  <th>Covariance Type:</th>      <td>nonrobust</td>    <th>                     </th>     <td> </td>   \n",
       "</tr>\n",
       "</table>\n",
       "<table class=\"simpletable\">\n",
       "<tr>\n",
       "    <td></td>       <th>coef</th>     <th>std err</th>      <th>t</th>      <th>P>|t|</th>  <th>[0.025</th>    <th>0.975]</th>  \n",
       "</tr>\n",
       "<tr>\n",
       "  <th>const</th> <td>  -11.8572</td> <td>    9.821</td> <td>   -1.207</td> <td> 0.228</td> <td>  -31.168</td> <td>    7.453</td>\n",
       "</tr>\n",
       "<tr>\n",
       "  <th>MP</th>    <td>    0.0383</td> <td>    0.014</td> <td>    2.755</td> <td> 0.006</td> <td>    0.011</td> <td>    0.066</td>\n",
       "</tr>\n",
       "<tr>\n",
       "  <th>PTS</th>   <td>    0.1497</td> <td>    0.024</td> <td>    6.113</td> <td> 0.000</td> <td>    0.102</td> <td>    0.198</td>\n",
       "</tr>\n",
       "</table>\n",
       "<table class=\"simpletable\">\n",
       "<tr>\n",
       "  <th>Omnibus:</th>       <td>208.128</td> <th>  Durbin-Watson:     </th> <td>   2.107</td>\n",
       "</tr>\n",
       "<tr>\n",
       "  <th>Prob(Omnibus):</th> <td> 0.000</td>  <th>  Jarque-Bera (JB):  </th> <td>1793.392</td>\n",
       "</tr>\n",
       "<tr>\n",
       "  <th>Skew:</th>          <td> 2.198</td>  <th>  Prob(JB):          </th> <td>    0.00</td>\n",
       "</tr>\n",
       "<tr>\n",
       "  <th>Kurtosis:</th>      <td>12.754</td>  <th>  Cond. No.          </th> <td>3.53e+03</td>\n",
       "</tr>\n",
       "</table>"
      ],
      "text/plain": [
       "<class 'statsmodels.iolib.summary.Summary'>\n",
       "\"\"\"\n",
       "                            OLS Regression Results                            \n",
       "==============================================================================\n",
       "Dep. Variable:                    AST   R-squared:                       0.525\n",
       "Model:                            OLS   Adj. R-squared:                  0.523\n",
       "Method:                 Least Squares   F-statistic:                     206.4\n",
       "Date:                Fri, 11 May 2018   Prob (F-statistic):           4.46e-61\n",
       "Time:                        07:54:35   Log-Likelihood:                -2241.3\n",
       "No. Observations:                 376   AIC:                             4489.\n",
       "Df Residuals:                     373   BIC:                             4500.\n",
       "Df Model:                           2                                         \n",
       "Covariance Type:            nonrobust                                         \n",
       "==============================================================================\n",
       "                 coef    std err          t      P>|t|      [0.025      0.975]\n",
       "------------------------------------------------------------------------------\n",
       "const        -11.8572      9.821     -1.207      0.228     -31.168       7.453\n",
       "MP             0.0383      0.014      2.755      0.006       0.011       0.066\n",
       "PTS            0.1497      0.024      6.113      0.000       0.102       0.198\n",
       "==============================================================================\n",
       "Omnibus:                      208.128   Durbin-Watson:                   2.107\n",
       "Prob(Omnibus):                  0.000   Jarque-Bera (JB):             1793.392\n",
       "Skew:                           2.198   Prob(JB):                         0.00\n",
       "Kurtosis:                      12.754   Cond. No.                     3.53e+03\n",
       "==============================================================================\n",
       "\n",
       "Warnings:\n",
       "[1] Standard Errors assume that the covariance matrix of the errors is correctly specified.\n",
       "[2] The condition number is large, 3.53e+03. This might indicate that there are\n",
       "strong multicollinearity or other numerical problems.\n",
       "\"\"\""
      ]
     },
     "execution_count": 11,
     "metadata": {},
     "output_type": "execute_result"
    }
   ],
   "source": [
    "x = basketball_df[['MP', 'PTS']]\n",
    "y = basketball_df['AST']\n",
    "x = sm.add_constant(x)\n",
    "est = sm.OLS(y, x).fit()\n",
    "est.summary()"
   ]
  },
  {
   "cell_type": "markdown",
   "metadata": {},
   "source": [
    "**Question 9.3.** Perform a multiple regression with three independent variables on `\"TOV\"`."
   ]
  },
  {
   "cell_type": "code",
   "execution_count": 12,
   "metadata": {},
   "outputs": [
    {
     "data": {
      "text/html": [
       "<table class=\"simpletable\">\n",
       "<caption>OLS Regression Results</caption>\n",
       "<tr>\n",
       "  <th>Dep. Variable:</th>           <td>TOV</td>       <th>  R-squared:         </th> <td>   0.905</td> \n",
       "</tr>\n",
       "<tr>\n",
       "  <th>Model:</th>                   <td>OLS</td>       <th>  Adj. R-squared:    </th> <td>   0.904</td> \n",
       "</tr>\n",
       "<tr>\n",
       "  <th>Method:</th>             <td>Least Squares</td>  <th>  F-statistic:       </th> <td>   1180.</td> \n",
       "</tr>\n",
       "<tr>\n",
       "  <th>Date:</th>             <td>Fri, 11 May 2018</td> <th>  Prob (F-statistic):</th> <td>1.23e-189</td>\n",
       "</tr>\n",
       "<tr>\n",
       "  <th>Time:</th>                 <td>07:58:39</td>     <th>  Log-Likelihood:    </th> <td> -1650.3</td> \n",
       "</tr>\n",
       "<tr>\n",
       "  <th>No. Observations:</th>      <td>   376</td>      <th>  AIC:               </th> <td>   3309.</td> \n",
       "</tr>\n",
       "<tr>\n",
       "  <th>Df Residuals:</th>          <td>   372</td>      <th>  BIC:               </th> <td>   3324.</td> \n",
       "</tr>\n",
       "<tr>\n",
       "  <th>Df Model:</th>              <td>     3</td>      <th>                     </th>     <td> </td>    \n",
       "</tr>\n",
       "<tr>\n",
       "  <th>Covariance Type:</th>      <td>nonrobust</td>    <th>                     </th>     <td> </td>    \n",
       "</tr>\n",
       "</table>\n",
       "<table class=\"simpletable\">\n",
       "<tr>\n",
       "    <td></td>       <th>coef</th>     <th>std err</th>      <th>t</th>      <th>P>|t|</th>  <th>[0.025</th>    <th>0.975]</th>  \n",
       "</tr>\n",
       "<tr>\n",
       "  <th>const</th> <td>    2.9396</td> <td>    2.046</td> <td>    1.437</td> <td> 0.152</td> <td>   -1.084</td> <td>    6.963</td>\n",
       "</tr>\n",
       "<tr>\n",
       "  <th>MP</th>    <td>    0.0078</td> <td>    0.003</td> <td>    2.684</td> <td> 0.008</td> <td>    0.002</td> <td>    0.014</td>\n",
       "</tr>\n",
       "<tr>\n",
       "  <th>PTS</th>   <td>    0.0606</td> <td>    0.005</td> <td>   11.340</td> <td> 0.000</td> <td>    0.050</td> <td>    0.071</td>\n",
       "</tr>\n",
       "<tr>\n",
       "  <th>AST</th>   <td>    0.2256</td> <td>    0.011</td> <td>   20.953</td> <td> 0.000</td> <td>    0.204</td> <td>    0.247</td>\n",
       "</tr>\n",
       "</table>\n",
       "<table class=\"simpletable\">\n",
       "<tr>\n",
       "  <th>Omnibus:</th>       <td>31.050</td> <th>  Durbin-Watson:     </th> <td>   2.053</td>\n",
       "</tr>\n",
       "<tr>\n",
       "  <th>Prob(Omnibus):</th> <td> 0.000</td> <th>  Jarque-Bera (JB):  </th> <td> 105.122</td>\n",
       "</tr>\n",
       "<tr>\n",
       "  <th>Skew:</th>          <td> 0.258</td> <th>  Prob(JB):          </th> <td>1.49e-23</td>\n",
       "</tr>\n",
       "<tr>\n",
       "  <th>Kurtosis:</th>      <td> 5.539</td> <th>  Cond. No.          </th> <td>3.55e+03</td>\n",
       "</tr>\n",
       "</table>"
      ],
      "text/plain": [
       "<class 'statsmodels.iolib.summary.Summary'>\n",
       "\"\"\"\n",
       "                            OLS Regression Results                            \n",
       "==============================================================================\n",
       "Dep. Variable:                    TOV   R-squared:                       0.905\n",
       "Model:                            OLS   Adj. R-squared:                  0.904\n",
       "Method:                 Least Squares   F-statistic:                     1180.\n",
       "Date:                Fri, 11 May 2018   Prob (F-statistic):          1.23e-189\n",
       "Time:                        07:58:39   Log-Likelihood:                -1650.3\n",
       "No. Observations:                 376   AIC:                             3309.\n",
       "Df Residuals:                     372   BIC:                             3324.\n",
       "Df Model:                           3                                         \n",
       "Covariance Type:            nonrobust                                         \n",
       "==============================================================================\n",
       "                 coef    std err          t      P>|t|      [0.025      0.975]\n",
       "------------------------------------------------------------------------------\n",
       "const          2.9396      2.046      1.437      0.152      -1.084       6.963\n",
       "MP             0.0078      0.003      2.684      0.008       0.002       0.014\n",
       "PTS            0.0606      0.005     11.340      0.000       0.050       0.071\n",
       "AST            0.2256      0.011     20.953      0.000       0.204       0.247\n",
       "==============================================================================\n",
       "Omnibus:                       31.050   Durbin-Watson:                   2.053\n",
       "Prob(Omnibus):                  0.000   Jarque-Bera (JB):              105.122\n",
       "Skew:                           0.258   Prob(JB):                     1.49e-23\n",
       "Kurtosis:                       5.539   Cond. No.                     3.55e+03\n",
       "==============================================================================\n",
       "\n",
       "Warnings:\n",
       "[1] Standard Errors assume that the covariance matrix of the errors is correctly specified.\n",
       "[2] The condition number is large, 3.55e+03. This might indicate that there are\n",
       "strong multicollinearity or other numerical problems.\n",
       "\"\"\""
      ]
     },
     "execution_count": 12,
     "metadata": {},
     "output_type": "execute_result"
    }
   ],
   "source": [
    "x = basketball_df[['MP', 'PTS', 'AST']]\n",
    "y = basketball_df['TOV']\n",
    "x = sm.add_constant(x)\n",
    "est = sm.OLS(y, x).fit()\n",
    "est.summary()"
   ]
  },
  {
   "cell_type": "markdown",
   "metadata": {},
   "source": [
    "**Question 9.4.** Perform a multiple with regression with five independent variables on a dependent variable of your choice."
   ]
  },
  {
   "cell_type": "code",
   "execution_count": 294,
   "metadata": {},
   "outputs": [
    {
     "data": {
      "text/html": [
       "<table class=\"simpletable\">\n",
       "<caption>OLS Regression Results</caption>\n",
       "<tr>\n",
       "  <th>Dep. Variable:</th>           <td>PTS</td>       <th>  R-squared:         </th> <td>   0.877</td> \n",
       "</tr>\n",
       "<tr>\n",
       "  <th>Model:</th>                   <td>OLS</td>       <th>  Adj. R-squared:    </th> <td>   0.875</td> \n",
       "</tr>\n",
       "<tr>\n",
       "  <th>Method:</th>             <td>Least Squares</td>  <th>  F-statistic:       </th> <td>   526.3</td> \n",
       "</tr>\n",
       "<tr>\n",
       "  <th>Date:</th>             <td>Fri, 11 May 2018</td> <th>  Prob (F-statistic):</th> <td>1.00e-165</td>\n",
       "</tr>\n",
       "<tr>\n",
       "  <th>Time:</th>                 <td>15:45:18</td>     <th>  Log-Likelihood:    </th> <td> -2448.8</td> \n",
       "</tr>\n",
       "<tr>\n",
       "  <th>No. Observations:</th>      <td>   376</td>      <th>  AIC:               </th> <td>   4910.</td> \n",
       "</tr>\n",
       "<tr>\n",
       "  <th>Df Residuals:</th>          <td>   370</td>      <th>  BIC:               </th> <td>   4933.</td> \n",
       "</tr>\n",
       "<tr>\n",
       "  <th>Df Model:</th>              <td>     5</td>      <th>                     </th>     <td> </td>    \n",
       "</tr>\n",
       "<tr>\n",
       "  <th>Covariance Type:</th>      <td>nonrobust</td>    <th>                     </th>     <td> </td>    \n",
       "</tr>\n",
       "</table>\n",
       "<table class=\"simpletable\">\n",
       "<tr>\n",
       "    <td></td>       <th>coef</th>     <th>std err</th>      <th>t</th>      <th>P>|t|</th>  <th>[0.025</th>    <th>0.975]</th>  \n",
       "</tr>\n",
       "<tr>\n",
       "  <th>const</th> <td> -128.0775</td> <td>   71.771</td> <td>   -1.785</td> <td> 0.075</td> <td> -269.207</td> <td>   13.052</td>\n",
       "</tr>\n",
       "<tr>\n",
       "  <th>MP</th>    <td>    0.2938</td> <td>    0.020</td> <td>   14.878</td> <td> 0.000</td> <td>    0.255</td> <td>    0.333</td>\n",
       "</tr>\n",
       "<tr>\n",
       "  <th>TOV</th>   <td>    4.2553</td> <td>    0.386</td> <td>   11.011</td> <td> 0.000</td> <td>    3.495</td> <td>    5.015</td>\n",
       "</tr>\n",
       "<tr>\n",
       "  <th>AST</th>   <td>   -0.5040</td> <td>    0.136</td> <td>   -3.701</td> <td> 0.000</td> <td>   -0.772</td> <td>   -0.236</td>\n",
       "</tr>\n",
       "<tr>\n",
       "  <th>Age</th>   <td>    0.7901</td> <td>    1.976</td> <td>    0.400</td> <td> 0.689</td> <td>   -3.095</td> <td>    4.675</td>\n",
       "</tr>\n",
       "<tr>\n",
       "  <th>FG%</th>   <td>   62.4162</td> <td>  128.764</td> <td>    0.485</td> <td> 0.628</td> <td> -190.786</td> <td>  315.618</td>\n",
       "</tr>\n",
       "</table>\n",
       "<table class=\"simpletable\">\n",
       "<tr>\n",
       "  <th>Omnibus:</th>       <td>38.496</td> <th>  Durbin-Watson:     </th> <td>   2.027</td>\n",
       "</tr>\n",
       "<tr>\n",
       "  <th>Prob(Omnibus):</th> <td> 0.000</td> <th>  Jarque-Bera (JB):  </th> <td> 101.890</td>\n",
       "</tr>\n",
       "<tr>\n",
       "  <th>Skew:</th>          <td> 0.479</td> <th>  Prob(JB):          </th> <td>7.50e-23</td>\n",
       "</tr>\n",
       "<tr>\n",
       "  <th>Kurtosis:</th>      <td> 5.364</td> <th>  Cond. No.          </th> <td>2.61e+04</td>\n",
       "</tr>\n",
       "</table>"
      ],
      "text/plain": [
       "<class 'statsmodels.iolib.summary.Summary'>\n",
       "\"\"\"\n",
       "                            OLS Regression Results                            \n",
       "==============================================================================\n",
       "Dep. Variable:                    PTS   R-squared:                       0.877\n",
       "Model:                            OLS   Adj. R-squared:                  0.875\n",
       "Method:                 Least Squares   F-statistic:                     526.3\n",
       "Date:                Fri, 11 May 2018   Prob (F-statistic):          1.00e-165\n",
       "Time:                        15:45:18   Log-Likelihood:                -2448.8\n",
       "No. Observations:                 376   AIC:                             4910.\n",
       "Df Residuals:                     370   BIC:                             4933.\n",
       "Df Model:                           5                                         \n",
       "Covariance Type:            nonrobust                                         \n",
       "==============================================================================\n",
       "                 coef    std err          t      P>|t|      [0.025      0.975]\n",
       "------------------------------------------------------------------------------\n",
       "const       -128.0775     71.771     -1.785      0.075    -269.207      13.052\n",
       "MP             0.2938      0.020     14.878      0.000       0.255       0.333\n",
       "TOV            4.2553      0.386     11.011      0.000       3.495       5.015\n",
       "AST           -0.5040      0.136     -3.701      0.000      -0.772      -0.236\n",
       "Age            0.7901      1.976      0.400      0.689      -3.095       4.675\n",
       "FG%           62.4162    128.764      0.485      0.628    -190.786     315.618\n",
       "==============================================================================\n",
       "Omnibus:                       38.496   Durbin-Watson:                   2.027\n",
       "Prob(Omnibus):                  0.000   Jarque-Bera (JB):              101.890\n",
       "Skew:                           0.479   Prob(JB):                     7.50e-23\n",
       "Kurtosis:                       5.364   Cond. No.                     2.61e+04\n",
       "==============================================================================\n",
       "\n",
       "Warnings:\n",
       "[1] Standard Errors assume that the covariance matrix of the errors is correctly specified.\n",
       "[2] The condition number is large, 2.61e+04. This might indicate that there are\n",
       "strong multicollinearity or other numerical problems.\n",
       "\"\"\""
      ]
     },
     "execution_count": 294,
     "metadata": {},
     "output_type": "execute_result"
    }
   ],
   "source": [
    "basketball_df= basketball_df.astype(float)\n",
    "x = basketball_df[['MP', 'TOV', 'AST', 'Age', 'FG%']]\n",
    "y = basketball_df['PTS']\n",
    "x = sm.add_constant(x)\n",
    "est = sm.OLS(y, x).fit()\n",
    "est.summary()"
   ]
  },
  {
   "cell_type": "markdown",
   "metadata": {},
   "source": [
    "**Question 9.5.** Implement Ridge Regression with different values of regularization parameter. Compare it with the previous result, i.e. **Question 9.4**"
   ]
  },
  {
   "cell_type": "code",
   "execution_count": 296,
   "metadata": {
    "scrolled": true
   },
   "outputs": [
    {
     "name": "stdout",
     "output_type": "stream",
     "text": [
      "Caefficients :  [-128.07753177    0.29378805    4.25530325   -0.50403887    0.7901371    62.4161687 ]\n",
      "MSE :  26578.825315084832\n",
      "R^2 :  0.876737760773\n"
     ]
    }
   ],
   "source": [
    "reg_res = sm.OLS(y, x).fit_regularized(method = 'coord_descent', alpha = 0, L1_wt = 0)\n",
    "reg_res_param = reg_res.params\n",
    "print(\"Caefficients : \", reg_res_param)\n",
    "print(\"MSE : \", np.mean((reg_res.fittedvalues - basketball_df.PTS)**2))\n",
    "print(\"R^2 : \", (np.corrcoef(reg_res.fittedvalues, basketball_df.PTS)[0,1])**2)"
   ]
  },
  {
   "cell_type": "markdown",
   "metadata": {},
   "source": [
    "We get exactly the same coefficients for all the variables in ridge regression when the regularization parameter _alpha_ is 0 (L1_wt = 0 for ridge and 1 for Lasso) as in the normal multiple regression. Now lets change the alpha to 0.05, 0.5, 5 and 10 respectively.\n"
   ]
  },
  {
   "cell_type": "code",
   "execution_count": 297,
   "metadata": {},
   "outputs": [
    {
     "name": "stdout",
     "output_type": "stream",
     "text": [
      "Caefficients :  [-116.13704467    0.2941444     4.25628065   -0.50569822    0.6573063    42.73764579]\n",
      "MSE :  26581.053143916793\n",
      "R^2 :  0.876727663221\n"
     ]
    }
   ],
   "source": [
    "reg_res = sm.OLS(y, x).fit_regularized(method = 'coord_descent', alpha = 0.001, L1_wt = 0)\n",
    "reg_res_param = reg_res.params\n",
    "print(\"Caefficients : \", reg_res_param)\n",
    "print(\"MSE : \", np.mean((reg_res.fittedvalues - basketball_df.PTS)**2))\n",
    "print(\"R^2 : \", (np.corrcoef(reg_res.fittedvalues, basketball_df.PTS)[0,1])**2)"
   ]
  },
  {
   "cell_type": "code",
   "execution_count": 298,
   "metadata": {},
   "outputs": [
    {
     "name": "stdout",
     "output_type": "stream",
     "text": [
      "Caefficients :  [-33.88828304   0.29407657   4.18981718  -0.4826873   -1.48510419  -6.44208054]\n",
      "MSE :  26716.086672986163\n",
      "R^2 :  0.876142381312\n"
     ]
    }
   ],
   "source": [
    "reg_res = sm.OLS(y, x).fit_regularized(method = 'coord_descent', alpha = 0.05, L1_wt = 0)\n",
    "reg_res_param = reg_res.params\n",
    "print(\"Caefficients : \", reg_res_param)\n",
    "print(\"MSE : \", np.mean((reg_res.fittedvalues - basketball_df.PTS)**2))\n",
    "print(\"R^2 : \", (np.corrcoef(reg_res.fittedvalues, basketball_df.PTS)[0,1])**2)"
   ]
  },
  {
   "cell_type": "code",
   "execution_count": 299,
   "metadata": {},
   "outputs": [
    {
     "name": "stdout",
     "output_type": "stream",
     "text": [
      "Caefficients :  [-4.97807798  0.29341314  4.14433887 -0.46471829 -2.55206923 -1.27320008]\n",
      "MSE :  26840.65435787179\n",
      "R^2 :  0.875607994268\n"
     ]
    }
   ],
   "source": [
    "reg_res = sm.OLS(y, x).fit_regularized(method = 'coord_descent', alpha = 0.5, L1_wt = 0)\n",
    "reg_res_param = reg_res.params\n",
    "print(\"Caefficients : \", reg_res_param)\n",
    "print(\"MSE : \", np.mean((reg_res.fittedvalues - basketball_df.PTS)**2))\n",
    "print(\"R^2 : \", (np.corrcoef(reg_res.fittedvalues, basketball_df.PTS)[0,1])**2)"
   ]
  },
  {
   "cell_type": "code",
   "execution_count": 300,
   "metadata": {},
   "outputs": [
    {
     "name": "stdout",
     "output_type": "stream",
     "text": [
      "Caefficients :  [-0.59949125  0.29348694  4.10498986 -0.45222478 -2.66482354 -0.16784131]\n",
      "MSE :  26865.582726306282\n",
      "R^2 :  0.875539525907\n"
     ]
    }
   ],
   "source": [
    "reg_res = sm.OLS(y, x).fit_regularized(method = 'coord_descent', alpha = 5, L1_wt = 0)\n",
    "reg_res_param = reg_res.params\n",
    "print(\"Caefficients : \", reg_res_param)\n",
    "print(\"MSE : \", np.mean((reg_res.fittedvalues - basketball_df.PTS)**2))\n",
    "print(\"R^2 : \", (np.corrcoef(reg_res.fittedvalues, basketball_df.PTS)[0,1])**2)"
   ]
  },
  {
   "cell_type": "markdown",
   "metadata": {},
   "source": [
    "So, we find that the coefficient's magnitude decreases as the regularization parameter _alpha_ increases. The smaller _alpha_ values have less mean square error and higher $R^{2}$ values."
   ]
  },
  {
   "cell_type": "markdown",
   "metadata": {},
   "source": [
    "Important Points :\n",
    "Ridge Regression shrinks the parameters, therefore it is mostly used to prevent multicollinearity.\n",
    "It reduces the model complexity by coefficient shrinkage and uses L2 regularization technique."
   ]
  },
  {
   "cell_type": "markdown",
   "metadata": {},
   "source": [
    "\n",
    "\n",
    "**Question 9.6.** Implement Ridge Regression with different values of regularization parameter. Meanwhile, add quadratic term to features. More details:\n",
    "For Least Square, you are find the parameter $\\alpha$ to fit model: \n",
    "$$y\\approx \\alpha_1x_1 + \\alpha_2 x_2 + ... + \\alpha_5x_5. = \\alpha^Tx.$$\n",
    "In this question, we are asking to find the parameter $\\alpha$ and $\\beta$ to fit the model:\n",
    "$$y\\approx \\sum_{i=1}^5\\alpha_ix_i + \\sum_{1\\leq i<j\\leq 5}\\beta_{i,j}x_ix_j.$$\n",
    "\n",
    "You need to formulate the problem by yourself in regular Least Square form then solve it.\n",
    "Compare it with the previous result, i.e. **Question 9.5**"
   ]
  },
  {
   "cell_type": "code",
   "execution_count": 301,
   "metadata": {},
   "outputs": [
    {
     "data": {
      "text/html": [
       "<div>\n",
       "<style>\n",
       "    .dataframe thead tr:only-child th {\n",
       "        text-align: right;\n",
       "    }\n",
       "\n",
       "    .dataframe thead th {\n",
       "        text-align: left;\n",
       "    }\n",
       "\n",
       "    .dataframe tbody tr th {\n",
       "        vertical-align: top;\n",
       "    }\n",
       "</style>\n",
       "<table border=\"1\" class=\"dataframe\">\n",
       "  <thead>\n",
       "    <tr style=\"text-align: right;\">\n",
       "      <th></th>\n",
       "      <th>const</th>\n",
       "      <th>MP</th>\n",
       "      <th>TOV</th>\n",
       "      <th>AST</th>\n",
       "      <th>Age</th>\n",
       "      <th>FG%</th>\n",
       "      <th>MP*TOV</th>\n",
       "      <th>MP*AST</th>\n",
       "      <th>MP*Age</th>\n",
       "      <th>MP*FG%</th>\n",
       "      <th>TOV*AST</th>\n",
       "      <th>TOV*Age</th>\n",
       "      <th>TOV*FG%</th>\n",
       "      <th>AST*Age</th>\n",
       "      <th>AST*FG%</th>\n",
       "      <th>Age*FG%</th>\n",
       "    </tr>\n",
       "  </thead>\n",
       "  <tbody>\n",
       "    <tr>\n",
       "      <th>0</th>\n",
       "      <td>1.0</td>\n",
       "      <td>1084.0</td>\n",
       "      <td>81.0</td>\n",
       "      <td>178.0</td>\n",
       "      <td>31.0</td>\n",
       "      <td>0.402</td>\n",
       "      <td>87804.0</td>\n",
       "      <td>192952.0</td>\n",
       "      <td>33604.0</td>\n",
       "      <td>435.768</td>\n",
       "      <td>14418.0</td>\n",
       "      <td>2511.0</td>\n",
       "      <td>32.562</td>\n",
       "      <td>5518.0</td>\n",
       "      <td>71.556</td>\n",
       "      <td>12.462</td>\n",
       "    </tr>\n",
       "    <tr>\n",
       "      <th>1</th>\n",
       "      <td>1.0</td>\n",
       "      <td>1839.0</td>\n",
       "      <td>66.0</td>\n",
       "      <td>127.0</td>\n",
       "      <td>20.0</td>\n",
       "      <td>0.472</td>\n",
       "      <td>121374.0</td>\n",
       "      <td>233553.0</td>\n",
       "      <td>36780.0</td>\n",
       "      <td>868.008</td>\n",
       "      <td>8382.0</td>\n",
       "      <td>1320.0</td>\n",
       "      <td>31.152</td>\n",
       "      <td>2540.0</td>\n",
       "      <td>59.944</td>\n",
       "      <td>9.440</td>\n",
       "    </tr>\n",
       "    <tr>\n",
       "      <th>2</th>\n",
       "      <td>1.0</td>\n",
       "      <td>76.0</td>\n",
       "      <td>3.0</td>\n",
       "      <td>1.0</td>\n",
       "      <td>21.0</td>\n",
       "      <td>0.188</td>\n",
       "      <td>228.0</td>\n",
       "      <td>76.0</td>\n",
       "      <td>1596.0</td>\n",
       "      <td>14.288</td>\n",
       "      <td>3.0</td>\n",
       "      <td>63.0</td>\n",
       "      <td>0.564</td>\n",
       "      <td>21.0</td>\n",
       "      <td>0.188</td>\n",
       "      <td>3.948</td>\n",
       "    </tr>\n",
       "    <tr>\n",
       "      <th>3</th>\n",
       "      <td>1.0</td>\n",
       "      <td>470.0</td>\n",
       "      <td>34.0</td>\n",
       "      <td>28.0</td>\n",
       "      <td>24.0</td>\n",
       "      <td>0.362</td>\n",
       "      <td>15980.0</td>\n",
       "      <td>13160.0</td>\n",
       "      <td>11280.0</td>\n",
       "      <td>170.140</td>\n",
       "      <td>952.0</td>\n",
       "      <td>816.0</td>\n",
       "      <td>12.308</td>\n",
       "      <td>672.0</td>\n",
       "      <td>10.136</td>\n",
       "      <td>8.688</td>\n",
       "    </tr>\n",
       "    <tr>\n",
       "      <th>4</th>\n",
       "      <td>1.0</td>\n",
       "      <td>2568.0</td>\n",
       "      <td>104.0</td>\n",
       "      <td>259.0</td>\n",
       "      <td>29.0</td>\n",
       "      <td>0.502</td>\n",
       "      <td>267072.0</td>\n",
       "      <td>665112.0</td>\n",
       "      <td>74472.0</td>\n",
       "      <td>1289.136</td>\n",
       "      <td>26936.0</td>\n",
       "      <td>3016.0</td>\n",
       "      <td>52.208</td>\n",
       "      <td>7511.0</td>\n",
       "      <td>130.018</td>\n",
       "      <td>14.558</td>\n",
       "    </tr>\n",
       "    <tr>\n",
       "      <th>5</th>\n",
       "      <td>1.0</td>\n",
       "      <td>2322.0</td>\n",
       "      <td>119.0</td>\n",
       "      <td>138.0</td>\n",
       "      <td>25.0</td>\n",
       "      <td>0.415</td>\n",
       "      <td>276318.0</td>\n",
       "      <td>320436.0</td>\n",
       "      <td>58050.0</td>\n",
       "      <td>963.630</td>\n",
       "      <td>16422.0</td>\n",
       "      <td>2975.0</td>\n",
       "      <td>49.385</td>\n",
       "      <td>3450.0</td>\n",
       "      <td>57.270</td>\n",
       "      <td>10.375</td>\n",
       "    </tr>\n",
       "    <tr>\n",
       "      <th>6</th>\n",
       "      <td>1.0</td>\n",
       "      <td>162.0</td>\n",
       "      <td>2.0</td>\n",
       "      <td>10.0</td>\n",
       "      <td>33.0</td>\n",
       "      <td>0.383</td>\n",
       "      <td>324.0</td>\n",
       "      <td>1620.0</td>\n",
       "      <td>5346.0</td>\n",
       "      <td>62.046</td>\n",
       "      <td>20.0</td>\n",
       "      <td>66.0</td>\n",
       "      <td>0.766</td>\n",
       "      <td>330.0</td>\n",
       "      <td>3.830</td>\n",
       "      <td>12.639</td>\n",
       "    </tr>\n",
       "    <tr>\n",
       "      <th>7</th>\n",
       "      <td>1.0</td>\n",
       "      <td>787.0</td>\n",
       "      <td>50.0</td>\n",
       "      <td>61.0</td>\n",
       "      <td>24.0</td>\n",
       "      <td>0.410</td>\n",
       "      <td>39350.0</td>\n",
       "      <td>48007.0</td>\n",
       "      <td>18888.0</td>\n",
       "      <td>322.670</td>\n",
       "      <td>3050.0</td>\n",
       "      <td>1200.0</td>\n",
       "      <td>20.500</td>\n",
       "      <td>1464.0</td>\n",
       "      <td>25.010</td>\n",
       "      <td>9.840</td>\n",
       "    </tr>\n",
       "    <tr>\n",
       "      <th>8</th>\n",
       "      <td>1.0</td>\n",
       "      <td>1756.0</td>\n",
       "      <td>141.0</td>\n",
       "      <td>95.0</td>\n",
       "      <td>22.0</td>\n",
       "      <td>0.424</td>\n",
       "      <td>247596.0</td>\n",
       "      <td>166820.0</td>\n",
       "      <td>38632.0</td>\n",
       "      <td>744.544</td>\n",
       "      <td>13395.0</td>\n",
       "      <td>3102.0</td>\n",
       "      <td>59.784</td>\n",
       "      <td>2090.0</td>\n",
       "      <td>40.280</td>\n",
       "      <td>9.328</td>\n",
       "    </tr>\n",
       "    <tr>\n",
       "      <th>9</th>\n",
       "      <td>1.0</td>\n",
       "      <td>861.0</td>\n",
       "      <td>54.0</td>\n",
       "      <td>31.0</td>\n",
       "      <td>27.0</td>\n",
       "      <td>0.476</td>\n",
       "      <td>46494.0</td>\n",
       "      <td>26691.0</td>\n",
       "      <td>23247.0</td>\n",
       "      <td>409.836</td>\n",
       "      <td>1674.0</td>\n",
       "      <td>1458.0</td>\n",
       "      <td>25.704</td>\n",
       "      <td>837.0</td>\n",
       "      <td>14.756</td>\n",
       "      <td>12.852</td>\n",
       "    </tr>\n",
       "    <tr>\n",
       "      <th>10</th>\n",
       "      <td>1.0</td>\n",
       "      <td>2080.0</td>\n",
       "      <td>64.0</td>\n",
       "      <td>97.0</td>\n",
       "      <td>23.0</td>\n",
       "      <td>0.458</td>\n",
       "      <td>133120.0</td>\n",
       "      <td>201760.0</td>\n",
       "      <td>47840.0</td>\n",
       "      <td>952.640</td>\n",
       "      <td>6208.0</td>\n",
       "      <td>1472.0</td>\n",
       "      <td>29.312</td>\n",
       "      <td>2231.0</td>\n",
       "      <td>44.426</td>\n",
       "      <td>10.534</td>\n",
       "    </tr>\n",
       "    <tr>\n",
       "      <th>11</th>\n",
       "      <td>1.0</td>\n",
       "      <td>1632.0</td>\n",
       "      <td>55.0</td>\n",
       "      <td>72.0</td>\n",
       "      <td>28.0</td>\n",
       "      <td>0.518</td>\n",
       "      <td>89760.0</td>\n",
       "      <td>117504.0</td>\n",
       "      <td>45696.0</td>\n",
       "      <td>845.376</td>\n",
       "      <td>3960.0</td>\n",
       "      <td>1540.0</td>\n",
       "      <td>28.490</td>\n",
       "      <td>2016.0</td>\n",
       "      <td>37.296</td>\n",
       "      <td>14.504</td>\n",
       "    </tr>\n",
       "    <tr>\n",
       "      <th>12</th>\n",
       "      <td>1.0</td>\n",
       "      <td>1756.0</td>\n",
       "      <td>94.0</td>\n",
       "      <td>133.0</td>\n",
       "      <td>28.0</td>\n",
       "      <td>0.586</td>\n",
       "      <td>165064.0</td>\n",
       "      <td>233548.0</td>\n",
       "      <td>49168.0</td>\n",
       "      <td>1029.016</td>\n",
       "      <td>12502.0</td>\n",
       "      <td>2632.0</td>\n",
       "      <td>55.084</td>\n",
       "      <td>3724.0</td>\n",
       "      <td>77.938</td>\n",
       "      <td>16.408</td>\n",
       "    </tr>\n",
       "    <tr>\n",
       "      <th>13</th>\n",
       "      <td>1.0</td>\n",
       "      <td>2633.0</td>\n",
       "      <td>153.0</td>\n",
       "      <td>67.0</td>\n",
       "      <td>22.0</td>\n",
       "      <td>0.522</td>\n",
       "      <td>402849.0</td>\n",
       "      <td>176411.0</td>\n",
       "      <td>57926.0</td>\n",
       "      <td>1374.426</td>\n",
       "      <td>10251.0</td>\n",
       "      <td>3366.0</td>\n",
       "      <td>79.866</td>\n",
       "      <td>1474.0</td>\n",
       "      <td>34.974</td>\n",
       "      <td>11.484</td>\n",
       "    </tr>\n",
       "    <tr>\n",
       "      <th>14</th>\n",
       "      <td>1.0</td>\n",
       "      <td>1703.0</td>\n",
       "      <td>77.0</td>\n",
       "      <td>212.0</td>\n",
       "      <td>32.0</td>\n",
       "      <td>0.481</td>\n",
       "      <td>131131.0</td>\n",
       "      <td>361036.0</td>\n",
       "      <td>54496.0</td>\n",
       "      <td>819.143</td>\n",
       "      <td>16324.0</td>\n",
       "      <td>2464.0</td>\n",
       "      <td>37.037</td>\n",
       "      <td>6784.0</td>\n",
       "      <td>101.972</td>\n",
       "      <td>15.392</td>\n",
       "    </tr>\n",
       "    <tr>\n",
       "      <th>15</th>\n",
       "      <td>1.0</td>\n",
       "      <td>1508.0</td>\n",
       "      <td>35.0</td>\n",
       "      <td>47.0</td>\n",
       "      <td>24.0</td>\n",
       "      <td>0.491</td>\n",
       "      <td>52780.0</td>\n",
       "      <td>70876.0</td>\n",
       "      <td>36192.0</td>\n",
       "      <td>740.428</td>\n",
       "      <td>1645.0</td>\n",
       "      <td>840.0</td>\n",
       "      <td>17.185</td>\n",
       "      <td>1128.0</td>\n",
       "      <td>23.077</td>\n",
       "      <td>11.784</td>\n",
       "    </tr>\n",
       "    <tr>\n",
       "      <th>16</th>\n",
       "      <td>1.0</td>\n",
       "      <td>634.0</td>\n",
       "      <td>26.0</td>\n",
       "      <td>18.0</td>\n",
       "      <td>30.0</td>\n",
       "      <td>0.455</td>\n",
       "      <td>16484.0</td>\n",
       "      <td>11412.0</td>\n",
       "      <td>19020.0</td>\n",
       "      <td>288.470</td>\n",
       "      <td>468.0</td>\n",
       "      <td>780.0</td>\n",
       "      <td>11.830</td>\n",
       "      <td>540.0</td>\n",
       "      <td>8.190</td>\n",
       "      <td>13.650</td>\n",
       "    </tr>\n",
       "    <tr>\n",
       "      <th>17</th>\n",
       "      <td>1.0</td>\n",
       "      <td>1432.0</td>\n",
       "      <td>81.0</td>\n",
       "      <td>161.0</td>\n",
       "      <td>31.0</td>\n",
       "      <td>0.625</td>\n",
       "      <td>115992.0</td>\n",
       "      <td>230552.0</td>\n",
       "      <td>44392.0</td>\n",
       "      <td>895.000</td>\n",
       "      <td>13041.0</td>\n",
       "      <td>2511.0</td>\n",
       "      <td>50.625</td>\n",
       "      <td>4991.0</td>\n",
       "      <td>100.625</td>\n",
       "      <td>19.375</td>\n",
       "    </tr>\n",
       "    <tr>\n",
       "      <th>18</th>\n",
       "      <td>1.0</td>\n",
       "      <td>37.0</td>\n",
       "      <td>4.0</td>\n",
       "      <td>3.0</td>\n",
       "      <td>27.0</td>\n",
       "      <td>0.500</td>\n",
       "      <td>148.0</td>\n",
       "      <td>111.0</td>\n",
       "      <td>999.0</td>\n",
       "      <td>18.500</td>\n",
       "      <td>12.0</td>\n",
       "      <td>108.0</td>\n",
       "      <td>2.000</td>\n",
       "      <td>81.0</td>\n",
       "      <td>1.500</td>\n",
       "      <td>13.500</td>\n",
       "    </tr>\n",
       "    <tr>\n",
       "      <th>19</th>\n",
       "      <td>1.0</td>\n",
       "      <td>808.0</td>\n",
       "      <td>40.0</td>\n",
       "      <td>25.0</td>\n",
       "      <td>26.0</td>\n",
       "      <td>0.480</td>\n",
       "      <td>32320.0</td>\n",
       "      <td>20200.0</td>\n",
       "      <td>21008.0</td>\n",
       "      <td>387.840</td>\n",
       "      <td>1000.0</td>\n",
       "      <td>1040.0</td>\n",
       "      <td>19.200</td>\n",
       "      <td>650.0</td>\n",
       "      <td>12.000</td>\n",
       "      <td>12.480</td>\n",
       "    </tr>\n",
       "    <tr>\n",
       "      <th>20</th>\n",
       "      <td>1.0</td>\n",
       "      <td>2785.0</td>\n",
       "      <td>178.0</td>\n",
       "      <td>161.0</td>\n",
       "      <td>20.0</td>\n",
       "      <td>0.458</td>\n",
       "      <td>495730.0</td>\n",
       "      <td>448385.0</td>\n",
       "      <td>55700.0</td>\n",
       "      <td>1275.530</td>\n",
       "      <td>28658.0</td>\n",
       "      <td>3560.0</td>\n",
       "      <td>81.524</td>\n",
       "      <td>3220.0</td>\n",
       "      <td>73.738</td>\n",
       "      <td>9.160</td>\n",
       "    </tr>\n",
       "    <tr>\n",
       "      <th>21</th>\n",
       "      <td>1.0</td>\n",
       "      <td>84.0</td>\n",
       "      <td>4.0</td>\n",
       "      <td>0.0</td>\n",
       "      <td>22.0</td>\n",
       "      <td>0.296</td>\n",
       "      <td>336.0</td>\n",
       "      <td>0.0</td>\n",
       "      <td>1848.0</td>\n",
       "      <td>24.864</td>\n",
       "      <td>0.0</td>\n",
       "      <td>88.0</td>\n",
       "      <td>1.184</td>\n",
       "      <td>0.0</td>\n",
       "      <td>0.000</td>\n",
       "      <td>6.512</td>\n",
       "    </tr>\n",
       "    <tr>\n",
       "      <th>22</th>\n",
       "      <td>1.0</td>\n",
       "      <td>599.0</td>\n",
       "      <td>15.0</td>\n",
       "      <td>19.0</td>\n",
       "      <td>23.0</td>\n",
       "      <td>0.310</td>\n",
       "      <td>8985.0</td>\n",
       "      <td>11381.0</td>\n",
       "      <td>13777.0</td>\n",
       "      <td>185.690</td>\n",
       "      <td>285.0</td>\n",
       "      <td>345.0</td>\n",
       "      <td>4.650</td>\n",
       "      <td>437.0</td>\n",
       "      <td>5.890</td>\n",
       "      <td>7.130</td>\n",
       "    </tr>\n",
       "    <tr>\n",
       "      <th>23</th>\n",
       "      <td>1.0</td>\n",
       "      <td>2164.0</td>\n",
       "      <td>121.0</td>\n",
       "      <td>116.0</td>\n",
       "      <td>22.0</td>\n",
       "      <td>0.493</td>\n",
       "      <td>261844.0</td>\n",
       "      <td>251024.0</td>\n",
       "      <td>47608.0</td>\n",
       "      <td>1066.852</td>\n",
       "      <td>14036.0</td>\n",
       "      <td>2662.0</td>\n",
       "      <td>59.653</td>\n",
       "      <td>2552.0</td>\n",
       "      <td>57.188</td>\n",
       "      <td>10.846</td>\n",
       "    </tr>\n",
       "    <tr>\n",
       "      <th>24</th>\n",
       "      <td>1.0</td>\n",
       "      <td>891.0</td>\n",
       "      <td>17.0</td>\n",
       "      <td>24.0</td>\n",
       "      <td>30.0</td>\n",
       "      <td>0.413</td>\n",
       "      <td>15147.0</td>\n",
       "      <td>21384.0</td>\n",
       "      <td>26730.0</td>\n",
       "      <td>367.983</td>\n",
       "      <td>408.0</td>\n",
       "      <td>510.0</td>\n",
       "      <td>7.021</td>\n",
       "      <td>720.0</td>\n",
       "      <td>9.912</td>\n",
       "      <td>12.390</td>\n",
       "    </tr>\n",
       "    <tr>\n",
       "      <th>25</th>\n",
       "      <td>1.0</td>\n",
       "      <td>1290.0</td>\n",
       "      <td>26.0</td>\n",
       "      <td>51.0</td>\n",
       "      <td>30.0</td>\n",
       "      <td>0.379</td>\n",
       "      <td>33540.0</td>\n",
       "      <td>65790.0</td>\n",
       "      <td>38700.0</td>\n",
       "      <td>488.910</td>\n",
       "      <td>1326.0</td>\n",
       "      <td>780.0</td>\n",
       "      <td>9.854</td>\n",
       "      <td>1530.0</td>\n",
       "      <td>19.329</td>\n",
       "      <td>11.370</td>\n",
       "    </tr>\n",
       "    <tr>\n",
       "      <th>26</th>\n",
       "      <td>1.0</td>\n",
       "      <td>1084.0</td>\n",
       "      <td>99.0</td>\n",
       "      <td>113.0</td>\n",
       "      <td>21.0</td>\n",
       "      <td>0.422</td>\n",
       "      <td>107316.0</td>\n",
       "      <td>122492.0</td>\n",
       "      <td>22764.0</td>\n",
       "      <td>457.448</td>\n",
       "      <td>11187.0</td>\n",
       "      <td>2079.0</td>\n",
       "      <td>41.778</td>\n",
       "      <td>2373.0</td>\n",
       "      <td>47.686</td>\n",
       "      <td>8.862</td>\n",
       "    </tr>\n",
       "    <tr>\n",
       "      <th>27</th>\n",
       "      <td>1.0</td>\n",
       "      <td>1190.0</td>\n",
       "      <td>62.0</td>\n",
       "      <td>50.0</td>\n",
       "      <td>29.0</td>\n",
       "      <td>0.504</td>\n",
       "      <td>73780.0</td>\n",
       "      <td>59500.0</td>\n",
       "      <td>34510.0</td>\n",
       "      <td>599.760</td>\n",
       "      <td>3100.0</td>\n",
       "      <td>1798.0</td>\n",
       "      <td>31.248</td>\n",
       "      <td>1450.0</td>\n",
       "      <td>25.200</td>\n",
       "      <td>14.616</td>\n",
       "    </tr>\n",
       "    <tr>\n",
       "      <th>28</th>\n",
       "      <td>1.0</td>\n",
       "      <td>2345.0</td>\n",
       "      <td>81.0</td>\n",
       "      <td>142.0</td>\n",
       "      <td>30.0</td>\n",
       "      <td>0.443</td>\n",
       "      <td>189945.0</td>\n",
       "      <td>332990.0</td>\n",
       "      <td>70350.0</td>\n",
       "      <td>1038.835</td>\n",
       "      <td>11502.0</td>\n",
       "      <td>2430.0</td>\n",
       "      <td>35.883</td>\n",
       "      <td>4260.0</td>\n",
       "      <td>62.906</td>\n",
       "      <td>13.290</td>\n",
       "    </tr>\n",
       "    <tr>\n",
       "      <th>29</th>\n",
       "      <td>1.0</td>\n",
       "      <td>1407.0</td>\n",
       "      <td>60.0</td>\n",
       "      <td>92.0</td>\n",
       "      <td>23.0</td>\n",
       "      <td>0.437</td>\n",
       "      <td>84420.0</td>\n",
       "      <td>129444.0</td>\n",
       "      <td>32361.0</td>\n",
       "      <td>614.859</td>\n",
       "      <td>5520.0</td>\n",
       "      <td>1380.0</td>\n",
       "      <td>26.220</td>\n",
       "      <td>2116.0</td>\n",
       "      <td>40.204</td>\n",
       "      <td>10.051</td>\n",
       "    </tr>\n",
       "    <tr>\n",
       "      <th>...</th>\n",
       "      <td>...</td>\n",
       "      <td>...</td>\n",
       "      <td>...</td>\n",
       "      <td>...</td>\n",
       "      <td>...</td>\n",
       "      <td>...</td>\n",
       "      <td>...</td>\n",
       "      <td>...</td>\n",
       "      <td>...</td>\n",
       "      <td>...</td>\n",
       "      <td>...</td>\n",
       "      <td>...</td>\n",
       "      <td>...</td>\n",
       "      <td>...</td>\n",
       "      <td>...</td>\n",
       "      <td>...</td>\n",
       "    </tr>\n",
       "    <tr>\n",
       "      <th>346</th>\n",
       "      <td>1.0</td>\n",
       "      <td>831.0</td>\n",
       "      <td>22.0</td>\n",
       "      <td>49.0</td>\n",
       "      <td>23.0</td>\n",
       "      <td>0.424</td>\n",
       "      <td>18282.0</td>\n",
       "      <td>40719.0</td>\n",
       "      <td>19113.0</td>\n",
       "      <td>352.344</td>\n",
       "      <td>1078.0</td>\n",
       "      <td>506.0</td>\n",
       "      <td>9.328</td>\n",
       "      <td>1127.0</td>\n",
       "      <td>20.776</td>\n",
       "      <td>9.752</td>\n",
       "    </tr>\n",
       "    <tr>\n",
       "      <th>347</th>\n",
       "      <td>1.0</td>\n",
       "      <td>1289.0</td>\n",
       "      <td>70.0</td>\n",
       "      <td>30.0</td>\n",
       "      <td>29.0</td>\n",
       "      <td>0.565</td>\n",
       "      <td>90230.0</td>\n",
       "      <td>38670.0</td>\n",
       "      <td>37381.0</td>\n",
       "      <td>728.285</td>\n",
       "      <td>2100.0</td>\n",
       "      <td>2030.0</td>\n",
       "      <td>39.550</td>\n",
       "      <td>870.0</td>\n",
       "      <td>16.950</td>\n",
       "      <td>16.385</td>\n",
       "    </tr>\n",
       "    <tr>\n",
       "      <th>348</th>\n",
       "      <td>1.0</td>\n",
       "      <td>1187.0</td>\n",
       "      <td>61.0</td>\n",
       "      <td>149.0</td>\n",
       "      <td>29.0</td>\n",
       "      <td>0.403</td>\n",
       "      <td>72407.0</td>\n",
       "      <td>176863.0</td>\n",
       "      <td>34423.0</td>\n",
       "      <td>478.361</td>\n",
       "      <td>9089.0</td>\n",
       "      <td>1769.0</td>\n",
       "      <td>24.583</td>\n",
       "      <td>4321.0</td>\n",
       "      <td>60.047</td>\n",
       "      <td>11.687</td>\n",
       "    </tr>\n",
       "    <tr>\n",
       "      <th>349</th>\n",
       "      <td>1.0</td>\n",
       "      <td>1620.0</td>\n",
       "      <td>78.0</td>\n",
       "      <td>70.0</td>\n",
       "      <td>34.0</td>\n",
       "      <td>0.458</td>\n",
       "      <td>126360.0</td>\n",
       "      <td>113400.0</td>\n",
       "      <td>55080.0</td>\n",
       "      <td>741.960</td>\n",
       "      <td>5460.0</td>\n",
       "      <td>2652.0</td>\n",
       "      <td>35.724</td>\n",
       "      <td>2380.0</td>\n",
       "      <td>32.060</td>\n",
       "      <td>15.572</td>\n",
       "    </tr>\n",
       "    <tr>\n",
       "      <th>350</th>\n",
       "      <td>1.0</td>\n",
       "      <td>1943.0</td>\n",
       "      <td>130.0</td>\n",
       "      <td>376.0</td>\n",
       "      <td>33.0</td>\n",
       "      <td>0.491</td>\n",
       "      <td>252590.0</td>\n",
       "      <td>730568.0</td>\n",
       "      <td>64119.0</td>\n",
       "      <td>954.013</td>\n",
       "      <td>48880.0</td>\n",
       "      <td>4290.0</td>\n",
       "      <td>63.830</td>\n",
       "      <td>12408.0</td>\n",
       "      <td>184.616</td>\n",
       "      <td>16.203</td>\n",
       "    </tr>\n",
       "    <tr>\n",
       "      <th>351</th>\n",
       "      <td>1.0</td>\n",
       "      <td>1232.0</td>\n",
       "      <td>51.0</td>\n",
       "      <td>60.0</td>\n",
       "      <td>24.0</td>\n",
       "      <td>0.372</td>\n",
       "      <td>62832.0</td>\n",
       "      <td>73920.0</td>\n",
       "      <td>29568.0</td>\n",
       "      <td>458.304</td>\n",
       "      <td>3060.0</td>\n",
       "      <td>1224.0</td>\n",
       "      <td>18.972</td>\n",
       "      <td>1440.0</td>\n",
       "      <td>22.320</td>\n",
       "      <td>8.928</td>\n",
       "    </tr>\n",
       "    <tr>\n",
       "      <th>352</th>\n",
       "      <td>1.0</td>\n",
       "      <td>144.0</td>\n",
       "      <td>29.0</td>\n",
       "      <td>20.0</td>\n",
       "      <td>22.0</td>\n",
       "      <td>0.338</td>\n",
       "      <td>4176.0</td>\n",
       "      <td>2880.0</td>\n",
       "      <td>3168.0</td>\n",
       "      <td>48.672</td>\n",
       "      <td>580.0</td>\n",
       "      <td>638.0</td>\n",
       "      <td>9.802</td>\n",
       "      <td>440.0</td>\n",
       "      <td>6.760</td>\n",
       "      <td>7.436</td>\n",
       "    </tr>\n",
       "    <tr>\n",
       "      <th>353</th>\n",
       "      <td>1.0</td>\n",
       "      <td>2808.0</td>\n",
       "      <td>110.0</td>\n",
       "      <td>184.0</td>\n",
       "      <td>30.0</td>\n",
       "      <td>0.414</td>\n",
       "      <td>308880.0</td>\n",
       "      <td>516672.0</td>\n",
       "      <td>84240.0</td>\n",
       "      <td>1162.512</td>\n",
       "      <td>20240.0</td>\n",
       "      <td>3300.0</td>\n",
       "      <td>45.540</td>\n",
       "      <td>5520.0</td>\n",
       "      <td>76.176</td>\n",
       "      <td>12.420</td>\n",
       "    </tr>\n",
       "    <tr>\n",
       "      <th>354</th>\n",
       "      <td>1.0</td>\n",
       "      <td>1579.0</td>\n",
       "      <td>80.0</td>\n",
       "      <td>80.0</td>\n",
       "      <td>28.0</td>\n",
       "      <td>0.484</td>\n",
       "      <td>126320.0</td>\n",
       "      <td>126320.0</td>\n",
       "      <td>44212.0</td>\n",
       "      <td>764.236</td>\n",
       "      <td>6400.0</td>\n",
       "      <td>2240.0</td>\n",
       "      <td>38.720</td>\n",
       "      <td>2240.0</td>\n",
       "      <td>38.720</td>\n",
       "      <td>13.552</td>\n",
       "    </tr>\n",
       "    <tr>\n",
       "      <th>355</th>\n",
       "      <td>1.0</td>\n",
       "      <td>1366.0</td>\n",
       "      <td>80.0</td>\n",
       "      <td>148.0</td>\n",
       "      <td>23.0</td>\n",
       "      <td>0.413</td>\n",
       "      <td>109280.0</td>\n",
       "      <td>202168.0</td>\n",
       "      <td>31418.0</td>\n",
       "      <td>564.158</td>\n",
       "      <td>11840.0</td>\n",
       "      <td>1840.0</td>\n",
       "      <td>33.040</td>\n",
       "      <td>3404.0</td>\n",
       "      <td>61.124</td>\n",
       "      <td>9.499</td>\n",
       "    </tr>\n",
       "    <tr>\n",
       "      <th>356</th>\n",
       "      <td>1.0</td>\n",
       "      <td>1320.0</td>\n",
       "      <td>60.0</td>\n",
       "      <td>55.0</td>\n",
       "      <td>20.0</td>\n",
       "      <td>0.436</td>\n",
       "      <td>79200.0</td>\n",
       "      <td>72600.0</td>\n",
       "      <td>26400.0</td>\n",
       "      <td>575.520</td>\n",
       "      <td>3300.0</td>\n",
       "      <td>1200.0</td>\n",
       "      <td>26.160</td>\n",
       "      <td>1100.0</td>\n",
       "      <td>23.980</td>\n",
       "      <td>8.720</td>\n",
       "    </tr>\n",
       "    <tr>\n",
       "      <th>357</th>\n",
       "      <td>1.0</td>\n",
       "      <td>432.0</td>\n",
       "      <td>21.0</td>\n",
       "      <td>17.0</td>\n",
       "      <td>24.0</td>\n",
       "      <td>0.465</td>\n",
       "      <td>9072.0</td>\n",
       "      <td>7344.0</td>\n",
       "      <td>10368.0</td>\n",
       "      <td>200.880</td>\n",
       "      <td>357.0</td>\n",
       "      <td>504.0</td>\n",
       "      <td>9.765</td>\n",
       "      <td>408.0</td>\n",
       "      <td>7.905</td>\n",
       "      <td>11.160</td>\n",
       "    </tr>\n",
       "    <tr>\n",
       "      <th>358</th>\n",
       "      <td>1.0</td>\n",
       "      <td>602.0</td>\n",
       "      <td>40.0</td>\n",
       "      <td>88.0</td>\n",
       "      <td>21.0</td>\n",
       "      <td>0.433</td>\n",
       "      <td>24080.0</td>\n",
       "      <td>52976.0</td>\n",
       "      <td>12642.0</td>\n",
       "      <td>260.666</td>\n",
       "      <td>3520.0</td>\n",
       "      <td>840.0</td>\n",
       "      <td>17.320</td>\n",
       "      <td>1848.0</td>\n",
       "      <td>38.104</td>\n",
       "      <td>9.093</td>\n",
       "    </tr>\n",
       "    <tr>\n",
       "      <th>359</th>\n",
       "      <td>1.0</td>\n",
       "      <td>329.0</td>\n",
       "      <td>11.0</td>\n",
       "      <td>7.0</td>\n",
       "      <td>30.0</td>\n",
       "      <td>0.441</td>\n",
       "      <td>3619.0</td>\n",
       "      <td>2303.0</td>\n",
       "      <td>9870.0</td>\n",
       "      <td>145.089</td>\n",
       "      <td>77.0</td>\n",
       "      <td>330.0</td>\n",
       "      <td>4.851</td>\n",
       "      <td>210.0</td>\n",
       "      <td>3.087</td>\n",
       "      <td>13.230</td>\n",
       "    </tr>\n",
       "    <tr>\n",
       "      <th>360</th>\n",
       "      <td>1.0</td>\n",
       "      <td>863.0</td>\n",
       "      <td>47.0</td>\n",
       "      <td>79.0</td>\n",
       "      <td>23.0</td>\n",
       "      <td>0.488</td>\n",
       "      <td>40561.0</td>\n",
       "      <td>68177.0</td>\n",
       "      <td>19849.0</td>\n",
       "      <td>421.144</td>\n",
       "      <td>3713.0</td>\n",
       "      <td>1081.0</td>\n",
       "      <td>22.936</td>\n",
       "      <td>1817.0</td>\n",
       "      <td>38.552</td>\n",
       "      <td>11.224</td>\n",
       "    </tr>\n",
       "    <tr>\n",
       "      <th>361</th>\n",
       "      <td>1.0</td>\n",
       "      <td>765.0</td>\n",
       "      <td>73.0</td>\n",
       "      <td>164.0</td>\n",
       "      <td>26.0</td>\n",
       "      <td>0.433</td>\n",
       "      <td>55845.0</td>\n",
       "      <td>125460.0</td>\n",
       "      <td>19890.0</td>\n",
       "      <td>331.245</td>\n",
       "      <td>11972.0</td>\n",
       "      <td>1898.0</td>\n",
       "      <td>31.609</td>\n",
       "      <td>4264.0</td>\n",
       "      <td>71.012</td>\n",
       "      <td>11.258</td>\n",
       "    </tr>\n",
       "    <tr>\n",
       "      <th>362</th>\n",
       "      <td>1.0</td>\n",
       "      <td>1618.0</td>\n",
       "      <td>93.0</td>\n",
       "      <td>64.0</td>\n",
       "      <td>33.0</td>\n",
       "      <td>0.583</td>\n",
       "      <td>150474.0</td>\n",
       "      <td>103552.0</td>\n",
       "      <td>53394.0</td>\n",
       "      <td>943.294</td>\n",
       "      <td>5952.0</td>\n",
       "      <td>3069.0</td>\n",
       "      <td>54.219</td>\n",
       "      <td>2112.0</td>\n",
       "      <td>37.312</td>\n",
       "      <td>19.239</td>\n",
       "    </tr>\n",
       "    <tr>\n",
       "      <th>363</th>\n",
       "      <td>1.0</td>\n",
       "      <td>521.0</td>\n",
       "      <td>31.0</td>\n",
       "      <td>91.0</td>\n",
       "      <td>19.0</td>\n",
       "      <td>0.356</td>\n",
       "      <td>16151.0</td>\n",
       "      <td>47411.0</td>\n",
       "      <td>9899.0</td>\n",
       "      <td>185.476</td>\n",
       "      <td>2821.0</td>\n",
       "      <td>589.0</td>\n",
       "      <td>11.036</td>\n",
       "      <td>1729.0</td>\n",
       "      <td>32.396</td>\n",
       "      <td>6.764</td>\n",
       "    </tr>\n",
       "    <tr>\n",
       "      <th>364</th>\n",
       "      <td>1.0</td>\n",
       "      <td>252.0</td>\n",
       "      <td>5.0</td>\n",
       "      <td>14.0</td>\n",
       "      <td>35.0</td>\n",
       "      <td>0.383</td>\n",
       "      <td>1260.0</td>\n",
       "      <td>3528.0</td>\n",
       "      <td>8820.0</td>\n",
       "      <td>96.516</td>\n",
       "      <td>70.0</td>\n",
       "      <td>175.0</td>\n",
       "      <td>1.915</td>\n",
       "      <td>490.0</td>\n",
       "      <td>5.362</td>\n",
       "      <td>13.405</td>\n",
       "    </tr>\n",
       "    <tr>\n",
       "      <th>365</th>\n",
       "      <td>1.0</td>\n",
       "      <td>2379.0</td>\n",
       "      <td>153.0</td>\n",
       "      <td>282.0</td>\n",
       "      <td>23.0</td>\n",
       "      <td>0.438</td>\n",
       "      <td>363987.0</td>\n",
       "      <td>670878.0</td>\n",
       "      <td>54717.0</td>\n",
       "      <td>1042.002</td>\n",
       "      <td>43146.0</td>\n",
       "      <td>3519.0</td>\n",
       "      <td>67.014</td>\n",
       "      <td>6486.0</td>\n",
       "      <td>123.516</td>\n",
       "      <td>10.074</td>\n",
       "    </tr>\n",
       "    <tr>\n",
       "      <th>366</th>\n",
       "      <td>1.0</td>\n",
       "      <td>968.0</td>\n",
       "      <td>34.0</td>\n",
       "      <td>54.0</td>\n",
       "      <td>39.0</td>\n",
       "      <td>0.393</td>\n",
       "      <td>32912.0</td>\n",
       "      <td>52272.0</td>\n",
       "      <td>37752.0</td>\n",
       "      <td>380.424</td>\n",
       "      <td>1836.0</td>\n",
       "      <td>1326.0</td>\n",
       "      <td>13.362</td>\n",
       "      <td>2106.0</td>\n",
       "      <td>21.222</td>\n",
       "      <td>15.327</td>\n",
       "    </tr>\n",
       "    <tr>\n",
       "      <th>367</th>\n",
       "      <td>1.0</td>\n",
       "      <td>1575.0</td>\n",
       "      <td>45.0</td>\n",
       "      <td>76.0</td>\n",
       "      <td>28.0</td>\n",
       "      <td>0.395</td>\n",
       "      <td>70875.0</td>\n",
       "      <td>119700.0</td>\n",
       "      <td>44100.0</td>\n",
       "      <td>622.125</td>\n",
       "      <td>3420.0</td>\n",
       "      <td>1260.0</td>\n",
       "      <td>17.775</td>\n",
       "      <td>2128.0</td>\n",
       "      <td>30.020</td>\n",
       "      <td>11.060</td>\n",
       "    </tr>\n",
       "    <tr>\n",
       "      <th>368</th>\n",
       "      <td>1.0</td>\n",
       "      <td>1613.0</td>\n",
       "      <td>53.0</td>\n",
       "      <td>49.0</td>\n",
       "      <td>28.0</td>\n",
       "      <td>0.403</td>\n",
       "      <td>85489.0</td>\n",
       "      <td>79037.0</td>\n",
       "      <td>45164.0</td>\n",
       "      <td>650.039</td>\n",
       "      <td>2597.0</td>\n",
       "      <td>1484.0</td>\n",
       "      <td>21.359</td>\n",
       "      <td>1372.0</td>\n",
       "      <td>19.747</td>\n",
       "      <td>11.284</td>\n",
       "    </tr>\n",
       "    <tr>\n",
       "      <th>369</th>\n",
       "      <td>1.0</td>\n",
       "      <td>2566.0</td>\n",
       "      <td>77.0</td>\n",
       "      <td>147.0</td>\n",
       "      <td>29.0</td>\n",
       "      <td>0.387</td>\n",
       "      <td>197582.0</td>\n",
       "      <td>377202.0</td>\n",
       "      <td>74414.0</td>\n",
       "      <td>993.042</td>\n",
       "      <td>11319.0</td>\n",
       "      <td>2233.0</td>\n",
       "      <td>29.799</td>\n",
       "      <td>4263.0</td>\n",
       "      <td>56.889</td>\n",
       "      <td>11.223</td>\n",
       "    </tr>\n",
       "    <tr>\n",
       "      <th>370</th>\n",
       "      <td>1.0</td>\n",
       "      <td>2328.0</td>\n",
       "      <td>139.0</td>\n",
       "      <td>201.0</td>\n",
       "      <td>25.0</td>\n",
       "      <td>0.433</td>\n",
       "      <td>323592.0</td>\n",
       "      <td>467928.0</td>\n",
       "      <td>58200.0</td>\n",
       "      <td>1008.024</td>\n",
       "      <td>27939.0</td>\n",
       "      <td>3475.0</td>\n",
       "      <td>60.187</td>\n",
       "      <td>5025.0</td>\n",
       "      <td>87.033</td>\n",
       "      <td>10.825</td>\n",
       "    </tr>\n",
       "    <tr>\n",
       "      <th>371</th>\n",
       "      <td>1.0</td>\n",
       "      <td>1341.0</td>\n",
       "      <td>41.0</td>\n",
       "      <td>31.0</td>\n",
       "      <td>22.0</td>\n",
       "      <td>0.575</td>\n",
       "      <td>54981.0</td>\n",
       "      <td>41571.0</td>\n",
       "      <td>29502.0</td>\n",
       "      <td>771.075</td>\n",
       "      <td>1271.0</td>\n",
       "      <td>902.0</td>\n",
       "      <td>23.575</td>\n",
       "      <td>682.0</td>\n",
       "      <td>17.825</td>\n",
       "      <td>12.650</td>\n",
       "    </tr>\n",
       "    <tr>\n",
       "      <th>372</th>\n",
       "      <td>1.0</td>\n",
       "      <td>187.0</td>\n",
       "      <td>11.0</td>\n",
       "      <td>14.0</td>\n",
       "      <td>23.0</td>\n",
       "      <td>0.446</td>\n",
       "      <td>2057.0</td>\n",
       "      <td>2618.0</td>\n",
       "      <td>4301.0</td>\n",
       "      <td>83.402</td>\n",
       "      <td>154.0</td>\n",
       "      <td>253.0</td>\n",
       "      <td>4.906</td>\n",
       "      <td>322.0</td>\n",
       "      <td>6.244</td>\n",
       "      <td>10.258</td>\n",
       "    </tr>\n",
       "    <tr>\n",
       "      <th>373</th>\n",
       "      <td>1.0</td>\n",
       "      <td>2236.0</td>\n",
       "      <td>151.0</td>\n",
       "      <td>243.0</td>\n",
       "      <td>20.0</td>\n",
       "      <td>0.449</td>\n",
       "      <td>337636.0</td>\n",
       "      <td>543348.0</td>\n",
       "      <td>44720.0</td>\n",
       "      <td>1003.964</td>\n",
       "      <td>36693.0</td>\n",
       "      <td>3020.0</td>\n",
       "      <td>67.799</td>\n",
       "      <td>4860.0</td>\n",
       "      <td>109.107</td>\n",
       "      <td>8.980</td>\n",
       "    </tr>\n",
       "    <tr>\n",
       "      <th>374</th>\n",
       "      <td>1.0</td>\n",
       "      <td>1966.0</td>\n",
       "      <td>100.0</td>\n",
       "      <td>136.0</td>\n",
       "      <td>34.0</td>\n",
       "      <td>0.474</td>\n",
       "      <td>196600.0</td>\n",
       "      <td>267376.0</td>\n",
       "      <td>66844.0</td>\n",
       "      <td>931.884</td>\n",
       "      <td>13600.0</td>\n",
       "      <td>3400.0</td>\n",
       "      <td>47.400</td>\n",
       "      <td>4624.0</td>\n",
       "      <td>64.464</td>\n",
       "      <td>16.116</td>\n",
       "    </tr>\n",
       "    <tr>\n",
       "      <th>375</th>\n",
       "      <td>1.0</td>\n",
       "      <td>1948.0</td>\n",
       "      <td>115.0</td>\n",
       "      <td>123.0</td>\n",
       "      <td>31.0</td>\n",
       "      <td>0.464</td>\n",
       "      <td>224020.0</td>\n",
       "      <td>239604.0</td>\n",
       "      <td>60388.0</td>\n",
       "      <td>903.872</td>\n",
       "      <td>14145.0</td>\n",
       "      <td>3565.0</td>\n",
       "      <td>53.360</td>\n",
       "      <td>3813.0</td>\n",
       "      <td>57.072</td>\n",
       "      <td>14.384</td>\n",
       "    </tr>\n",
       "  </tbody>\n",
       "</table>\n",
       "<p>376 rows × 16 columns</p>\n",
       "</div>"
      ],
      "text/plain": [
       "     const      MP    TOV    AST   Age    FG%    MP*TOV    MP*AST   MP*Age  \\\n",
       "0      1.0  1084.0   81.0  178.0  31.0  0.402   87804.0  192952.0  33604.0   \n",
       "1      1.0  1839.0   66.0  127.0  20.0  0.472  121374.0  233553.0  36780.0   \n",
       "2      1.0    76.0    3.0    1.0  21.0  0.188     228.0      76.0   1596.0   \n",
       "3      1.0   470.0   34.0   28.0  24.0  0.362   15980.0   13160.0  11280.0   \n",
       "4      1.0  2568.0  104.0  259.0  29.0  0.502  267072.0  665112.0  74472.0   \n",
       "5      1.0  2322.0  119.0  138.0  25.0  0.415  276318.0  320436.0  58050.0   \n",
       "6      1.0   162.0    2.0   10.0  33.0  0.383     324.0    1620.0   5346.0   \n",
       "7      1.0   787.0   50.0   61.0  24.0  0.410   39350.0   48007.0  18888.0   \n",
       "8      1.0  1756.0  141.0   95.0  22.0  0.424  247596.0  166820.0  38632.0   \n",
       "9      1.0   861.0   54.0   31.0  27.0  0.476   46494.0   26691.0  23247.0   \n",
       "10     1.0  2080.0   64.0   97.0  23.0  0.458  133120.0  201760.0  47840.0   \n",
       "11     1.0  1632.0   55.0   72.0  28.0  0.518   89760.0  117504.0  45696.0   \n",
       "12     1.0  1756.0   94.0  133.0  28.0  0.586  165064.0  233548.0  49168.0   \n",
       "13     1.0  2633.0  153.0   67.0  22.0  0.522  402849.0  176411.0  57926.0   \n",
       "14     1.0  1703.0   77.0  212.0  32.0  0.481  131131.0  361036.0  54496.0   \n",
       "15     1.0  1508.0   35.0   47.0  24.0  0.491   52780.0   70876.0  36192.0   \n",
       "16     1.0   634.0   26.0   18.0  30.0  0.455   16484.0   11412.0  19020.0   \n",
       "17     1.0  1432.0   81.0  161.0  31.0  0.625  115992.0  230552.0  44392.0   \n",
       "18     1.0    37.0    4.0    3.0  27.0  0.500     148.0     111.0    999.0   \n",
       "19     1.0   808.0   40.0   25.0  26.0  0.480   32320.0   20200.0  21008.0   \n",
       "20     1.0  2785.0  178.0  161.0  20.0  0.458  495730.0  448385.0  55700.0   \n",
       "21     1.0    84.0    4.0    0.0  22.0  0.296     336.0       0.0   1848.0   \n",
       "22     1.0   599.0   15.0   19.0  23.0  0.310    8985.0   11381.0  13777.0   \n",
       "23     1.0  2164.0  121.0  116.0  22.0  0.493  261844.0  251024.0  47608.0   \n",
       "24     1.0   891.0   17.0   24.0  30.0  0.413   15147.0   21384.0  26730.0   \n",
       "25     1.0  1290.0   26.0   51.0  30.0  0.379   33540.0   65790.0  38700.0   \n",
       "26     1.0  1084.0   99.0  113.0  21.0  0.422  107316.0  122492.0  22764.0   \n",
       "27     1.0  1190.0   62.0   50.0  29.0  0.504   73780.0   59500.0  34510.0   \n",
       "28     1.0  2345.0   81.0  142.0  30.0  0.443  189945.0  332990.0  70350.0   \n",
       "29     1.0  1407.0   60.0   92.0  23.0  0.437   84420.0  129444.0  32361.0   \n",
       "..     ...     ...    ...    ...   ...    ...       ...       ...      ...   \n",
       "346    1.0   831.0   22.0   49.0  23.0  0.424   18282.0   40719.0  19113.0   \n",
       "347    1.0  1289.0   70.0   30.0  29.0  0.565   90230.0   38670.0  37381.0   \n",
       "348    1.0  1187.0   61.0  149.0  29.0  0.403   72407.0  176863.0  34423.0   \n",
       "349    1.0  1620.0   78.0   70.0  34.0  0.458  126360.0  113400.0  55080.0   \n",
       "350    1.0  1943.0  130.0  376.0  33.0  0.491  252590.0  730568.0  64119.0   \n",
       "351    1.0  1232.0   51.0   60.0  24.0  0.372   62832.0   73920.0  29568.0   \n",
       "352    1.0   144.0   29.0   20.0  22.0  0.338    4176.0    2880.0   3168.0   \n",
       "353    1.0  2808.0  110.0  184.0  30.0  0.414  308880.0  516672.0  84240.0   \n",
       "354    1.0  1579.0   80.0   80.0  28.0  0.484  126320.0  126320.0  44212.0   \n",
       "355    1.0  1366.0   80.0  148.0  23.0  0.413  109280.0  202168.0  31418.0   \n",
       "356    1.0  1320.0   60.0   55.0  20.0  0.436   79200.0   72600.0  26400.0   \n",
       "357    1.0   432.0   21.0   17.0  24.0  0.465    9072.0    7344.0  10368.0   \n",
       "358    1.0   602.0   40.0   88.0  21.0  0.433   24080.0   52976.0  12642.0   \n",
       "359    1.0   329.0   11.0    7.0  30.0  0.441    3619.0    2303.0   9870.0   \n",
       "360    1.0   863.0   47.0   79.0  23.0  0.488   40561.0   68177.0  19849.0   \n",
       "361    1.0   765.0   73.0  164.0  26.0  0.433   55845.0  125460.0  19890.0   \n",
       "362    1.0  1618.0   93.0   64.0  33.0  0.583  150474.0  103552.0  53394.0   \n",
       "363    1.0   521.0   31.0   91.0  19.0  0.356   16151.0   47411.0   9899.0   \n",
       "364    1.0   252.0    5.0   14.0  35.0  0.383    1260.0    3528.0   8820.0   \n",
       "365    1.0  2379.0  153.0  282.0  23.0  0.438  363987.0  670878.0  54717.0   \n",
       "366    1.0   968.0   34.0   54.0  39.0  0.393   32912.0   52272.0  37752.0   \n",
       "367    1.0  1575.0   45.0   76.0  28.0  0.395   70875.0  119700.0  44100.0   \n",
       "368    1.0  1613.0   53.0   49.0  28.0  0.403   85489.0   79037.0  45164.0   \n",
       "369    1.0  2566.0   77.0  147.0  29.0  0.387  197582.0  377202.0  74414.0   \n",
       "370    1.0  2328.0  139.0  201.0  25.0  0.433  323592.0  467928.0  58200.0   \n",
       "371    1.0  1341.0   41.0   31.0  22.0  0.575   54981.0   41571.0  29502.0   \n",
       "372    1.0   187.0   11.0   14.0  23.0  0.446    2057.0    2618.0   4301.0   \n",
       "373    1.0  2236.0  151.0  243.0  20.0  0.449  337636.0  543348.0  44720.0   \n",
       "374    1.0  1966.0  100.0  136.0  34.0  0.474  196600.0  267376.0  66844.0   \n",
       "375    1.0  1948.0  115.0  123.0  31.0  0.464  224020.0  239604.0  60388.0   \n",
       "\n",
       "       MP*FG%  TOV*AST  TOV*Age  TOV*FG%  AST*Age  AST*FG%  Age*FG%  \n",
       "0     435.768  14418.0   2511.0   32.562   5518.0   71.556   12.462  \n",
       "1     868.008   8382.0   1320.0   31.152   2540.0   59.944    9.440  \n",
       "2      14.288      3.0     63.0    0.564     21.0    0.188    3.948  \n",
       "3     170.140    952.0    816.0   12.308    672.0   10.136    8.688  \n",
       "4    1289.136  26936.0   3016.0   52.208   7511.0  130.018   14.558  \n",
       "5     963.630  16422.0   2975.0   49.385   3450.0   57.270   10.375  \n",
       "6      62.046     20.0     66.0    0.766    330.0    3.830   12.639  \n",
       "7     322.670   3050.0   1200.0   20.500   1464.0   25.010    9.840  \n",
       "8     744.544  13395.0   3102.0   59.784   2090.0   40.280    9.328  \n",
       "9     409.836   1674.0   1458.0   25.704    837.0   14.756   12.852  \n",
       "10    952.640   6208.0   1472.0   29.312   2231.0   44.426   10.534  \n",
       "11    845.376   3960.0   1540.0   28.490   2016.0   37.296   14.504  \n",
       "12   1029.016  12502.0   2632.0   55.084   3724.0   77.938   16.408  \n",
       "13   1374.426  10251.0   3366.0   79.866   1474.0   34.974   11.484  \n",
       "14    819.143  16324.0   2464.0   37.037   6784.0  101.972   15.392  \n",
       "15    740.428   1645.0    840.0   17.185   1128.0   23.077   11.784  \n",
       "16    288.470    468.0    780.0   11.830    540.0    8.190   13.650  \n",
       "17    895.000  13041.0   2511.0   50.625   4991.0  100.625   19.375  \n",
       "18     18.500     12.0    108.0    2.000     81.0    1.500   13.500  \n",
       "19    387.840   1000.0   1040.0   19.200    650.0   12.000   12.480  \n",
       "20   1275.530  28658.0   3560.0   81.524   3220.0   73.738    9.160  \n",
       "21     24.864      0.0     88.0    1.184      0.0    0.000    6.512  \n",
       "22    185.690    285.0    345.0    4.650    437.0    5.890    7.130  \n",
       "23   1066.852  14036.0   2662.0   59.653   2552.0   57.188   10.846  \n",
       "24    367.983    408.0    510.0    7.021    720.0    9.912   12.390  \n",
       "25    488.910   1326.0    780.0    9.854   1530.0   19.329   11.370  \n",
       "26    457.448  11187.0   2079.0   41.778   2373.0   47.686    8.862  \n",
       "27    599.760   3100.0   1798.0   31.248   1450.0   25.200   14.616  \n",
       "28   1038.835  11502.0   2430.0   35.883   4260.0   62.906   13.290  \n",
       "29    614.859   5520.0   1380.0   26.220   2116.0   40.204   10.051  \n",
       "..        ...      ...      ...      ...      ...      ...      ...  \n",
       "346   352.344   1078.0    506.0    9.328   1127.0   20.776    9.752  \n",
       "347   728.285   2100.0   2030.0   39.550    870.0   16.950   16.385  \n",
       "348   478.361   9089.0   1769.0   24.583   4321.0   60.047   11.687  \n",
       "349   741.960   5460.0   2652.0   35.724   2380.0   32.060   15.572  \n",
       "350   954.013  48880.0   4290.0   63.830  12408.0  184.616   16.203  \n",
       "351   458.304   3060.0   1224.0   18.972   1440.0   22.320    8.928  \n",
       "352    48.672    580.0    638.0    9.802    440.0    6.760    7.436  \n",
       "353  1162.512  20240.0   3300.0   45.540   5520.0   76.176   12.420  \n",
       "354   764.236   6400.0   2240.0   38.720   2240.0   38.720   13.552  \n",
       "355   564.158  11840.0   1840.0   33.040   3404.0   61.124    9.499  \n",
       "356   575.520   3300.0   1200.0   26.160   1100.0   23.980    8.720  \n",
       "357   200.880    357.0    504.0    9.765    408.0    7.905   11.160  \n",
       "358   260.666   3520.0    840.0   17.320   1848.0   38.104    9.093  \n",
       "359   145.089     77.0    330.0    4.851    210.0    3.087   13.230  \n",
       "360   421.144   3713.0   1081.0   22.936   1817.0   38.552   11.224  \n",
       "361   331.245  11972.0   1898.0   31.609   4264.0   71.012   11.258  \n",
       "362   943.294   5952.0   3069.0   54.219   2112.0   37.312   19.239  \n",
       "363   185.476   2821.0    589.0   11.036   1729.0   32.396    6.764  \n",
       "364    96.516     70.0    175.0    1.915    490.0    5.362   13.405  \n",
       "365  1042.002  43146.0   3519.0   67.014   6486.0  123.516   10.074  \n",
       "366   380.424   1836.0   1326.0   13.362   2106.0   21.222   15.327  \n",
       "367   622.125   3420.0   1260.0   17.775   2128.0   30.020   11.060  \n",
       "368   650.039   2597.0   1484.0   21.359   1372.0   19.747   11.284  \n",
       "369   993.042  11319.0   2233.0   29.799   4263.0   56.889   11.223  \n",
       "370  1008.024  27939.0   3475.0   60.187   5025.0   87.033   10.825  \n",
       "371   771.075   1271.0    902.0   23.575    682.0   17.825   12.650  \n",
       "372    83.402    154.0    253.0    4.906    322.0    6.244   10.258  \n",
       "373  1003.964  36693.0   3020.0   67.799   4860.0  109.107    8.980  \n",
       "374   931.884  13600.0   3400.0   47.400   4624.0   64.464   16.116  \n",
       "375   903.872  14145.0   3565.0   53.360   3813.0   57.072   14.384  \n",
       "\n",
       "[376 rows x 16 columns]"
      ]
     },
     "execution_count": 301,
     "metadata": {},
     "output_type": "execute_result"
    }
   ],
   "source": [
    "# Get all combinations of columns of x\n",
    "comb = itertools.combinations([1, 2, 3, 4, 5], 2)\n",
    "aum = list(comb)\n",
    "\n",
    "for pair in itertools.combinations(x.columns[1:], 2): \n",
    "    new_col = '*'.join(pair)\n",
    "    x[new_col] = x[pair[0]] * x[pair[1]]\n",
    "    \n",
    "\n"
   ]
  },
  {
   "cell_type": "code",
   "execution_count": 302,
   "metadata": {},
   "outputs": [
    {
     "name": "stdout",
     "output_type": "stream",
     "text": [
      "Caefficients :  [ -6.84568169e+02   2.89637463e-01   1.61743229e-01  -2.59635010e+00   2.65014849e+01\n",
      "   1.77524010e+03   1.69497361e-03   2.31518457e-04  -2.41170593e-03  -5.26580893e-02\n",
      "  -4.03027723e-03   1.49909490e-01  -6.42075317e+00  -3.55734350e-02   7.01598093e+00\n",
      "  -6.57161897e+01]\n",
      "MSE :  21458.039317968145\n",
      "R^2 :  0.900485971656\n"
     ]
    }
   ],
   "source": [
    "reg_res = sm.OLS(y, x).fit_regularized(method = 'coord_descent', alpha = 0, L1_wt = 0)\n",
    "reg_res_param = reg_res.params\n",
    "print(\"Caefficients : \", reg_res_param)\n",
    "print(\"MSE : \", np.mean((reg_res.fittedvalues - basketball_df.PTS)**2))\n",
    "print(\"R^2 : \", (np.corrcoef(reg_res.fittedvalues, basketball_df.PTS)[0,1])**2)"
   ]
  },
  {
   "cell_type": "markdown",
   "metadata": {
    "collapsed": true
   },
   "source": [
    "We, find that when ridge parameter is not considered (i.e. the base case when _alpha_ is 0), this model with quadratic terms work much better than the linear model.\n",
    "\n",
    "The MSE decreases from about 26600 to only 21400 and the R^2 improves from 0.87 to 0.9. Therefore, we conclude that the base case of the regression equation with the cross terms making it a quadratic regression is better than the linear regression.\n",
    "\n",
    "Now, let us do the ridge regression and vary the tuning parameter _alpha_, which controls the strength of the penalty term, to 0.005, 0.05, 0.5, and 5 and track the performance of the fit in each case."
   ]
  },
  {
   "cell_type": "code",
   "execution_count": 312,
   "metadata": {},
   "outputs": [
    {
     "name": "stdout",
     "output_type": "stream",
     "text": [
      "Caefficients :  [ -6.84568169e+02   2.89637463e-01   1.61743229e-01  -2.59635010e+00   2.65014849e+01\n",
      "   1.77524010e+03   1.69497361e-03   2.31518457e-04  -2.41170593e-03  -5.26580893e-02\n",
      "  -4.03027723e-03   1.49909490e-01  -6.42075317e+00  -3.55734350e-02   7.01598093e+00\n",
      "  -6.57161897e+01]\n",
      "MSE :  21458.039317968167\n",
      "R^2 :  0.900485971656\n"
     ]
    }
   ],
   "source": [
    "reg_res = sm.OLS(y, x).fit_regularized(method = 'coord_descent', alpha = 0.005, L1_wt = 0)\n",
    "reg_res_param = reg_res.params\n",
    "print(\"Caefficients : \", reg_res_param)\n",
    "print(\"MSE : \", np.mean((reg_res.fittedvalues - basketball_df.PTS)**2))\n",
    "print(\"R^2 : \", (np.corrcoef(reg_res.fittedvalues, basketball_df.PTS)[0,1])**2)"
   ]
  },
  {
   "cell_type": "code",
   "execution_count": 305,
   "metadata": {},
   "outputs": [
    {
     "name": "stdout",
     "output_type": "stream",
     "text": [
      "Caefficients :  [  2.65422098e+00   3.90498047e-01  -3.25787449e-01  -2.55936535e+00   2.33943505e-01\n",
      "   4.82596635e+00   1.62519832e-03   2.51471031e-04  -4.92012573e-03  -1.14174166e-01\n",
      "  -3.87817389e-03   1.38807451e-01  -4.46548395e+00  -2.33288814e-02   6.03237304e+00\n",
      "   1.32323229e+00]\n",
      "MSE :  21790.634882667175\n",
      "R^2 :  0.898943732886\n"
     ]
    }
   ],
   "source": [
    "reg_res = sm.OLS(y, x).fit_regularized(method = 'coord_descent', alpha = 0.05, L1_wt = 0)\n",
    "reg_res_param = reg_res.params\n",
    "print(\"Caefficients : \", reg_res_param)\n",
    "print(\"MSE : \", np.mean((reg_res.fittedvalues - basketball_df.PTS)**2))\n",
    "print(\"R^2 : \", (np.corrcoef(reg_res.fittedvalues, basketball_df.PTS)[0,1])**2)"
   ]
  },
  {
   "cell_type": "code",
   "execution_count": 306,
   "metadata": {},
   "outputs": [
    {
     "name": "stdout",
     "output_type": "stream",
     "text": [
      "Caefficients :  [  3.39188361e-01   4.07267320e-01  -8.59771355e-01  -2.37391402e+00   4.20011180e-01\n",
      "   5.42873797e-01   1.60708583e-03   2.60456780e-04  -4.93296708e-03  -1.50736052e-01\n",
      "  -3.88183345e-03   1.36417441e-01  -3.06095622e+00  -2.26334733e-02   5.54427838e+00\n",
      "   1.21228883e+00]\n",
      "MSE :  21797.52672239481\n",
      "R^2 :  0.898911830261\n"
     ]
    }
   ],
   "source": [
    "reg_res = sm.OLS(y, x).fit_regularized(method = 'coord_descent', alpha = 0.5, L1_wt = 0)\n",
    "reg_res_param = reg_res.params\n",
    "print(\"Caefficients : \", reg_res_param)\n",
    "print(\"MSE : \", np.mean((reg_res.fittedvalues - basketball_df.PTS)**2))\n",
    "print(\"R^2 : \", (np.corrcoef(reg_res.fittedvalues, basketball_df.PTS)[0,1])**2)"
   ]
  },
  {
   "cell_type": "code",
   "execution_count": 307,
   "metadata": {},
   "outputs": [
    {
     "name": "stdout",
     "output_type": "stream",
     "text": [
      "Caefficients :  [  6.02969359e-02   3.87217168e-01  -1.30965590e+00  -1.81657740e+00   6.46535869e-01\n",
      "   7.08676665e-02   1.53934250e-03   3.02315322e-04  -4.24738399e-03  -1.47338788e-01\n",
      "  -3.93682442e-03   1.16665544e-01  -5.83234178e-01  -1.66832899e-02   3.78504197e+00\n",
      "   5.68394709e-01]\n",
      "MSE :  21851.225668632218\n",
      "R^2 :  0.898663079227\n"
     ]
    }
   ],
   "source": [
    "reg_res = sm.OLS(y, x).fit_regularized(method = 'coord_descent', alpha = 5, L1_wt = 0)\n",
    "reg_res_param = reg_res.params\n",
    "print(\"Caefficients : \", reg_res_param)\n",
    "print(\"MSE : \", np.mean((reg_res.fittedvalues - basketball_df.PTS)**2))\n",
    "print(\"R^2 : \", (np.corrcoef(reg_res.fittedvalues, basketball_df.PTS)[0,1])**2)"
   ]
  },
  {
   "cell_type": "code",
   "execution_count": 313,
   "metadata": {},
   "outputs": [
    {
     "name": "stdout",
     "output_type": "stream",
     "text": [
      "Caefficients :  [  2.42023160e-02   2.65977448e-01  -4.58731754e-01  -8.38540983e-01   5.24112092e-01\n",
      "   1.43334424e-02   1.43308131e-03   3.55144674e-04  -2.61032944e-03   2.99816302e-02\n",
      "  -4.00757946e-03   8.32979575e-02  -1.22537248e-02  -9.82620289e-03   9.86795145e-01\n",
      "   2.46879651e-01]\n",
      "MSE :  22129.71784707442\n",
      "R^2 :  0.897386207805\n"
     ]
    }
   ],
   "source": [
    "reg_res = sm.OLS(y, x).fit_regularized(method = 'coord_descent', alpha = 50, L1_wt = 0)\n",
    "reg_res_param = reg_res.params\n",
    "print(\"Caefficients : \", reg_res_param)\n",
    "print(\"MSE : \", np.mean((reg_res.fittedvalues - basketball_df.PTS)**2))\n",
    "print(\"R^2 : \", (np.corrcoef(reg_res.fittedvalues, basketball_df.PTS)[0,1])**2)"
   ]
  },
  {
   "cell_type": "markdown",
   "metadata": {
    "collapsed": true
   },
   "source": [
    "We find that even with the regularisation parameter as large as 50, the quadratic linear regression is much better than the linear regression with MSE of about 22100 only compared to 26600 for the linar model. Therefore, we would conclude that ridge regression which decreases the variance of the model by shrinking the coefficients can be better than the linear regression for some very small regularisation parameter but the performance deteriorate with the increasing tuning parameter. Quadratic linear regression with the cross terms perform way better than linear regression and should be preferred for better in sample fit. However, it might be overfitting the data and might ruin the predictions so we must cross validate the performance of qudratic model on a test set before choosing it over linear model. Else, better in sample performance might make the out of sample performance worse. "
   ]
  },
  {
   "cell_type": "code",
   "execution_count": null,
   "metadata": {
    "collapsed": true
   },
   "outputs": [],
   "source": []
  },
  {
   "cell_type": "code",
   "execution_count": null,
   "metadata": {
    "collapsed": true
   },
   "outputs": [],
   "source": []
  },
  {
   "cell_type": "code",
   "execution_count": null,
   "metadata": {
    "collapsed": true
   },
   "outputs": [],
   "source": []
  },
  {
   "cell_type": "code",
   "execution_count": null,
   "metadata": {
    "collapsed": true
   },
   "outputs": [],
   "source": []
  },
  {
   "cell_type": "code",
   "execution_count": null,
   "metadata": {
    "collapsed": true
   },
   "outputs": [],
   "source": []
  },
  {
   "cell_type": "code",
   "execution_count": null,
   "metadata": {
    "collapsed": true
   },
   "outputs": [],
   "source": []
  },
  {
   "cell_type": "code",
   "execution_count": null,
   "metadata": {
    "collapsed": true
   },
   "outputs": [],
   "source": []
  },
  {
   "cell_type": "code",
   "execution_count": null,
   "metadata": {
    "collapsed": true
   },
   "outputs": [],
   "source": []
  },
  {
   "cell_type": "code",
   "execution_count": null,
   "metadata": {
    "collapsed": true
   },
   "outputs": [],
   "source": []
  },
  {
   "cell_type": "code",
   "execution_count": null,
   "metadata": {
    "collapsed": true
   },
   "outputs": [],
   "source": []
  },
  {
   "cell_type": "code",
   "execution_count": null,
   "metadata": {
    "collapsed": true
   },
   "outputs": [],
   "source": []
  },
  {
   "cell_type": "code",
   "execution_count": null,
   "metadata": {
    "collapsed": true
   },
   "outputs": [],
   "source": []
  },
  {
   "cell_type": "code",
   "execution_count": null,
   "metadata": {
    "collapsed": true
   },
   "outputs": [],
   "source": []
  },
  {
   "cell_type": "code",
   "execution_count": null,
   "metadata": {
    "collapsed": true
   },
   "outputs": [],
   "source": []
  },
  {
   "cell_type": "code",
   "execution_count": null,
   "metadata": {
    "collapsed": true
   },
   "outputs": [],
   "source": []
  },
  {
   "cell_type": "code",
   "execution_count": null,
   "metadata": {
    "collapsed": true
   },
   "outputs": [],
   "source": []
  },
  {
   "cell_type": "code",
   "execution_count": null,
   "metadata": {
    "collapsed": true
   },
   "outputs": [],
   "source": []
  },
  {
   "cell_type": "code",
   "execution_count": null,
   "metadata": {
    "collapsed": true
   },
   "outputs": [],
   "source": []
  },
  {
   "cell_type": "code",
   "execution_count": null,
   "metadata": {
    "collapsed": true
   },
   "outputs": [],
   "source": []
  },
  {
   "cell_type": "code",
   "execution_count": null,
   "metadata": {
    "collapsed": true
   },
   "outputs": [],
   "source": []
  },
  {
   "cell_type": "code",
   "execution_count": null,
   "metadata": {
    "collapsed": true
   },
   "outputs": [],
   "source": []
  },
  {
   "cell_type": "code",
   "execution_count": null,
   "metadata": {
    "collapsed": true
   },
   "outputs": [],
   "source": []
  },
  {
   "cell_type": "code",
   "execution_count": null,
   "metadata": {
    "collapsed": true
   },
   "outputs": [],
   "source": []
  },
  {
   "cell_type": "code",
   "execution_count": null,
   "metadata": {
    "collapsed": true
   },
   "outputs": [],
   "source": []
  },
  {
   "cell_type": "code",
   "execution_count": null,
   "metadata": {
    "collapsed": true
   },
   "outputs": [],
   "source": []
  },
  {
   "cell_type": "code",
   "execution_count": null,
   "metadata": {
    "collapsed": true
   },
   "outputs": [],
   "source": []
  },
  {
   "cell_type": "code",
   "execution_count": null,
   "metadata": {
    "collapsed": true
   },
   "outputs": [],
   "source": []
  },
  {
   "cell_type": "code",
   "execution_count": null,
   "metadata": {
    "collapsed": true
   },
   "outputs": [],
   "source": []
  },
  {
   "cell_type": "code",
   "execution_count": null,
   "metadata": {
    "collapsed": true
   },
   "outputs": [],
   "source": []
  },
  {
   "cell_type": "code",
   "execution_count": null,
   "metadata": {
    "collapsed": true
   },
   "outputs": [],
   "source": []
  },
  {
   "cell_type": "code",
   "execution_count": null,
   "metadata": {
    "collapsed": true
   },
   "outputs": [],
   "source": []
  },
  {
   "cell_type": "code",
   "execution_count": null,
   "metadata": {
    "collapsed": true
   },
   "outputs": [],
   "source": []
  },
  {
   "cell_type": "code",
   "execution_count": null,
   "metadata": {
    "collapsed": true
   },
   "outputs": [],
   "source": []
  },
  {
   "cell_type": "code",
   "execution_count": null,
   "metadata": {
    "collapsed": true
   },
   "outputs": [],
   "source": []
  },
  {
   "cell_type": "code",
   "execution_count": null,
   "metadata": {
    "collapsed": true
   },
   "outputs": [],
   "source": []
  },
  {
   "cell_type": "code",
   "execution_count": null,
   "metadata": {
    "collapsed": true
   },
   "outputs": [],
   "source": []
  },
  {
   "cell_type": "code",
   "execution_count": null,
   "metadata": {
    "collapsed": true
   },
   "outputs": [],
   "source": []
  },
  {
   "cell_type": "code",
   "execution_count": null,
   "metadata": {
    "collapsed": true
   },
   "outputs": [],
   "source": []
  },
  {
   "cell_type": "code",
   "execution_count": null,
   "metadata": {
    "collapsed": true
   },
   "outputs": [],
   "source": []
  },
  {
   "cell_type": "code",
   "execution_count": null,
   "metadata": {
    "collapsed": true
   },
   "outputs": [],
   "source": []
  },
  {
   "cell_type": "code",
   "execution_count": null,
   "metadata": {
    "collapsed": true
   },
   "outputs": [],
   "source": []
  },
  {
   "cell_type": "code",
   "execution_count": null,
   "metadata": {
    "collapsed": true
   },
   "outputs": [],
   "source": []
  },
  {
   "cell_type": "code",
   "execution_count": null,
   "metadata": {
    "collapsed": true
   },
   "outputs": [],
   "source": []
  },
  {
   "cell_type": "code",
   "execution_count": null,
   "metadata": {
    "collapsed": true
   },
   "outputs": [],
   "source": []
  },
  {
   "cell_type": "code",
   "execution_count": null,
   "metadata": {
    "collapsed": true
   },
   "outputs": [],
   "source": []
  },
  {
   "cell_type": "code",
   "execution_count": null,
   "metadata": {
    "collapsed": true
   },
   "outputs": [],
   "source": []
  },
  {
   "cell_type": "code",
   "execution_count": null,
   "metadata": {
    "collapsed": true
   },
   "outputs": [],
   "source": []
  },
  {
   "cell_type": "code",
   "execution_count": null,
   "metadata": {
    "collapsed": true
   },
   "outputs": [],
   "source": []
  },
  {
   "cell_type": "code",
   "execution_count": null,
   "metadata": {
    "collapsed": true
   },
   "outputs": [],
   "source": []
  },
  {
   "cell_type": "code",
   "execution_count": null,
   "metadata": {
    "collapsed": true
   },
   "outputs": [],
   "source": []
  },
  {
   "cell_type": "code",
   "execution_count": null,
   "metadata": {
    "collapsed": true
   },
   "outputs": [],
   "source": []
  },
  {
   "cell_type": "code",
   "execution_count": null,
   "metadata": {
    "collapsed": true
   },
   "outputs": [],
   "source": []
  },
  {
   "cell_type": "code",
   "execution_count": null,
   "metadata": {
    "collapsed": true
   },
   "outputs": [],
   "source": []
  },
  {
   "cell_type": "code",
   "execution_count": null,
   "metadata": {
    "collapsed": true
   },
   "outputs": [],
   "source": []
  },
  {
   "cell_type": "code",
   "execution_count": null,
   "metadata": {
    "collapsed": true
   },
   "outputs": [],
   "source": []
  }
 ],
 "metadata": {
  "anaconda-cloud": {},
  "kernelspec": {
   "display_name": "Python 3",
   "language": "python",
   "name": "python3"
  },
  "language_info": {
   "codemirror_mode": {
    "name": "ipython",
    "version": 3
   },
   "file_extension": ".py",
   "mimetype": "text/x-python",
   "name": "python",
   "nbconvert_exporter": "python",
   "pygments_lexer": "ipython3",
   "version": "3.6.3"
  }
 },
 "nbformat": 4,
 "nbformat_minor": 1
}
